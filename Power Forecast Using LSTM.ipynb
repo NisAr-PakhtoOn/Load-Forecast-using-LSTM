{
 "cells": [
  {
   "cell_type": "code",
   "execution_count": 1,
   "id": "3e700cf3",
   "metadata": {},
   "outputs": [],
   "source": [
    "import pandas as pd\n",
    "import pandas as pd\n",
    "import numpy as np\n",
    "import matplotlib.pyplot as plt\n",
    "%matplotlib inline\n",
    "import seaborn as sns\n",
    "pd.pandas.set_option(\"display.max_columns\",None)\n",
    "#pd.pandas.set_option(\"display.max_rows\",None)"
   ]
  },
  {
   "cell_type": "code",
   "execution_count": 2,
   "id": "13a8a1cb",
   "metadata": {},
   "outputs": [],
   "source": [
    "data=pd.read_csv(\"data.csv\")"
   ]
  },
  {
   "cell_type": "code",
   "execution_count": 3,
   "id": "534d4849",
   "metadata": {
    "scrolled": false
   },
   "outputs": [
    {
     "data": {
      "text/html": [
       "<div>\n",
       "<style scoped>\n",
       "    .dataframe tbody tr th:only-of-type {\n",
       "        vertical-align: middle;\n",
       "    }\n",
       "\n",
       "    .dataframe tbody tr th {\n",
       "        vertical-align: top;\n",
       "    }\n",
       "\n",
       "    .dataframe thead th {\n",
       "        text-align: right;\n",
       "    }\n",
       "</style>\n",
       "<table border=\"1\" class=\"dataframe\">\n",
       "  <thead>\n",
       "    <tr style=\"text-align: right;\">\n",
       "      <th></th>\n",
       "      <th>Time</th>\n",
       "      <th>air_pressure[mmHg]</th>\n",
       "      <th>air_temperature[degree celcius]</th>\n",
       "      <th>relative_humidity[%]</th>\n",
       "      <th>wind_speed[M/S]</th>\n",
       "      <th>solar_irridiation[W/m²]</th>\n",
       "      <th>electricity_demand_values[kw]</th>\n",
       "      <th>heat_demand_values[kw]</th>\n",
       "    </tr>\n",
       "  </thead>\n",
       "  <tbody>\n",
       "    <tr>\n",
       "      <th>0</th>\n",
       "      <td>12/1/2010 0:00</td>\n",
       "      <td>729.7</td>\n",
       "      <td>25.0</td>\n",
       "      <td>85.0</td>\n",
       "      <td>5.0</td>\n",
       "      <td>0</td>\n",
       "      <td>289.567557</td>\n",
       "      <td>432.940036</td>\n",
       "    </tr>\n",
       "    <tr>\n",
       "      <th>1</th>\n",
       "      <td>12/1/2010 1:00</td>\n",
       "      <td>729.4</td>\n",
       "      <td>27.8</td>\n",
       "      <td>77.0</td>\n",
       "      <td>7.0</td>\n",
       "      <td>0</td>\n",
       "      <td>260.168520</td>\n",
       "      <td>473.935901</td>\n",
       "    </tr>\n",
       "    <tr>\n",
       "      <th>2</th>\n",
       "      <td>12/1/2010 2:00</td>\n",
       "      <td>728.9</td>\n",
       "      <td>33.3</td>\n",
       "      <td>62.0</td>\n",
       "      <td>7.0</td>\n",
       "      <td>0</td>\n",
       "      <td>247.273585</td>\n",
       "      <td>483.278761</td>\n",
       "    </tr>\n",
       "    <tr>\n",
       "      <th>3</th>\n",
       "      <td>12/1/2010 3:00</td>\n",
       "      <td>731.6</td>\n",
       "      <td>32.2</td>\n",
       "      <td>62.0</td>\n",
       "      <td>2.0</td>\n",
       "      <td>0</td>\n",
       "      <td>257.955878</td>\n",
       "      <td>545.921252</td>\n",
       "    </tr>\n",
       "    <tr>\n",
       "      <th>4</th>\n",
       "      <td>12/1/2010 4:00</td>\n",
       "      <td>732.6</td>\n",
       "      <td>22.8</td>\n",
       "      <td>96.0</td>\n",
       "      <td>3.0</td>\n",
       "      <td>0</td>\n",
       "      <td>258.255081</td>\n",
       "      <td>550.526112</td>\n",
       "    </tr>\n",
       "    <tr>\n",
       "      <th>...</th>\n",
       "      <td>...</td>\n",
       "      <td>...</td>\n",
       "      <td>...</td>\n",
       "      <td>...</td>\n",
       "      <td>...</td>\n",
       "      <td>...</td>\n",
       "      <td>...</td>\n",
       "      <td>...</td>\n",
       "    </tr>\n",
       "    <tr>\n",
       "      <th>70075</th>\n",
       "      <td>11/28/2018 19:00</td>\n",
       "      <td>733.3</td>\n",
       "      <td>24.4</td>\n",
       "      <td>60.0</td>\n",
       "      <td>3.0</td>\n",
       "      <td>262</td>\n",
       "      <td>379.637300</td>\n",
       "      <td>626.192823</td>\n",
       "    </tr>\n",
       "    <tr>\n",
       "      <th>70076</th>\n",
       "      <td>11/28/2018 20:00</td>\n",
       "      <td>733.6</td>\n",
       "      <td>27.8</td>\n",
       "      <td>56.0</td>\n",
       "      <td>4.0</td>\n",
       "      <td>0</td>\n",
       "      <td>369.976634</td>\n",
       "      <td>609.519357</td>\n",
       "    </tr>\n",
       "    <tr>\n",
       "      <th>70077</th>\n",
       "      <td>11/28/2018 21:00</td>\n",
       "      <td>732.1</td>\n",
       "      <td>38.3</td>\n",
       "      <td>22.0</td>\n",
       "      <td>0.0</td>\n",
       "      <td>0</td>\n",
       "      <td>365.009491</td>\n",
       "      <td>571.465130</td>\n",
       "    </tr>\n",
       "    <tr>\n",
       "      <th>70078</th>\n",
       "      <td>11/28/2018 22:00</td>\n",
       "      <td>735.3</td>\n",
       "      <td>36.7</td>\n",
       "      <td>25.0</td>\n",
       "      <td>4.0</td>\n",
       "      <td>0</td>\n",
       "      <td>396.966494</td>\n",
       "      <td>583.703242</td>\n",
       "    </tr>\n",
       "    <tr>\n",
       "      <th>70079</th>\n",
       "      <td>11/28/2018 23:00</td>\n",
       "      <td>735.3</td>\n",
       "      <td>23.9</td>\n",
       "      <td>74.0</td>\n",
       "      <td>0.0</td>\n",
       "      <td>0</td>\n",
       "      <td>489.883188</td>\n",
       "      <td>581.846428</td>\n",
       "    </tr>\n",
       "  </tbody>\n",
       "</table>\n",
       "<p>70080 rows × 8 columns</p>\n",
       "</div>"
      ],
      "text/plain": [
       "                   Time  air_pressure[mmHg]  air_temperature[degree celcius]  \\\n",
       "0        12/1/2010 0:00               729.7                             25.0   \n",
       "1        12/1/2010 1:00               729.4                             27.8   \n",
       "2        12/1/2010 2:00               728.9                             33.3   \n",
       "3        12/1/2010 3:00               731.6                             32.2   \n",
       "4        12/1/2010 4:00               732.6                             22.8   \n",
       "...                 ...                 ...                              ...   \n",
       "70075  11/28/2018 19:00               733.3                             24.4   \n",
       "70076  11/28/2018 20:00               733.6                             27.8   \n",
       "70077  11/28/2018 21:00               732.1                             38.3   \n",
       "70078  11/28/2018 22:00               735.3                             36.7   \n",
       "70079  11/28/2018 23:00               735.3                             23.9   \n",
       "\n",
       "       relative_humidity[%]  wind_speed[M/S]  solar_irridiation[W/m²]  \\\n",
       "0                      85.0              5.0                        0   \n",
       "1                      77.0              7.0                        0   \n",
       "2                      62.0              7.0                        0   \n",
       "3                      62.0              2.0                        0   \n",
       "4                      96.0              3.0                        0   \n",
       "...                     ...              ...                      ...   \n",
       "70075                  60.0              3.0                      262   \n",
       "70076                  56.0              4.0                        0   \n",
       "70077                  22.0              0.0                        0   \n",
       "70078                  25.0              4.0                        0   \n",
       "70079                  74.0              0.0                        0   \n",
       "\n",
       "       electricity_demand_values[kw]  heat_demand_values[kw]  \n",
       "0                         289.567557              432.940036  \n",
       "1                         260.168520              473.935901  \n",
       "2                         247.273585              483.278761  \n",
       "3                         257.955878              545.921252  \n",
       "4                         258.255081              550.526112  \n",
       "...                              ...                     ...  \n",
       "70075                     379.637300              626.192823  \n",
       "70076                     369.976634              609.519357  \n",
       "70077                     365.009491              571.465130  \n",
       "70078                     396.966494              583.703242  \n",
       "70079                     489.883188              581.846428  \n",
       "\n",
       "[70080 rows x 8 columns]"
      ]
     },
     "execution_count": 3,
     "metadata": {},
     "output_type": "execute_result"
    }
   ],
   "source": [
    "data"
   ]
  },
  {
   "cell_type": "markdown",
   "id": "8d3eee19",
   "metadata": {},
   "source": [
    "# PRE PROCESSING"
   ]
  },
  {
   "cell_type": "code",
   "execution_count": null,
   "id": "086d548e",
   "metadata": {},
   "outputs": [],
   "source": []
  },
  {
   "cell_type": "code",
   "execution_count": 5,
   "id": "cae119c8",
   "metadata": {
    "scrolled": true
   },
   "outputs": [
    {
     "name": "stdout",
     "output_type": "stream",
     "text": [
      "air_pressure[mmHg] 146\n",
      "air_temperature[degree celcius] 177\n",
      "relative_humidity[%] 177\n",
      "wind_speed[M/S] 955\n",
      "electricity_demand_values[kw] 7\n",
      "heat_demand_values[kw] 7\n"
     ]
    }
   ],
   "source": [
    "features_with_na=[features for features in data.columns if data[features].isnull().sum()]\n",
    "\n",
    "for feature in features_with_na:\n",
    "    \n",
    "    print(feature,(data[feature].isnull().sum()))"
   ]
  },
  {
   "cell_type": "code",
   "execution_count": 6,
   "id": "06d69fa5",
   "metadata": {},
   "outputs": [],
   "source": [
    " data[\"heat_demand_values[kw]\"].fillna(data[\"heat_demand_values[kw]\"].mean(),inplace=True)"
   ]
  },
  {
   "cell_type": "code",
   "execution_count": 7,
   "id": "debcf0ac",
   "metadata": {},
   "outputs": [],
   "source": [
    " data[\"electricity_demand_values[kw]\"].fillna(data[\"electricity_demand_values[kw]\"].mean(),inplace=True)"
   ]
  },
  {
   "cell_type": "code",
   "execution_count": 8,
   "id": "8c16ec3b",
   "metadata": {},
   "outputs": [],
   "source": [
    " data[\"wind_speed[M/S]\"].fillna(data[\"wind_speed[M/S]\"].mean(),inplace=True)"
   ]
  },
  {
   "cell_type": "code",
   "execution_count": 9,
   "id": "93808970",
   "metadata": {},
   "outputs": [],
   "source": [
    " data[\"air_temperature[degree celcius]\"].fillna(data[\"air_temperature[degree celcius]\"].mean(),inplace=True)"
   ]
  },
  {
   "cell_type": "code",
   "execution_count": 10,
   "id": "5fa0073d",
   "metadata": {},
   "outputs": [],
   "source": [
    " data[\"air_pressure[mmHg]\"].fillna(data[\"air_pressure[mmHg]\"].mean(),inplace=True)"
   ]
  },
  {
   "cell_type": "code",
   "execution_count": null,
   "id": "0fe9e0e6",
   "metadata": {},
   "outputs": [],
   "source": []
  },
  {
   "cell_type": "code",
   "execution_count": 63,
   "id": "809b813a",
   "metadata": {
    "scrolled": true
   },
   "outputs": [
    {
     "data": {
      "text/plain": [
       "Time                               0\n",
       "air_pressure[mmHg]                 0\n",
       "air_temperature[degree celcius]    0\n",
       "relative_humidity[%]               0\n",
       "wind_speed[M/S]                    0\n",
       "solar_irridiation[W/m²]            0\n",
       "electricity_demand_values[kw]      0\n",
       "heat_demand_values[kw]             0\n",
       "Month                              0\n",
       "Year                               0\n",
       "Date                               0\n",
       "dtype: int64"
      ]
     },
     "execution_count": 63,
     "metadata": {},
     "output_type": "execute_result"
    }
   ],
   "source": [
    "data.isnull().sum()"
   ]
  },
  {
   "cell_type": "code",
   "execution_count": 64,
   "id": "fb0b9b50",
   "metadata": {
    "scrolled": true
   },
   "outputs": [
    {
     "name": "stdout",
     "output_type": "stream",
     "text": [
      "<class 'pandas.core.frame.DataFrame'>\n",
      "RangeIndex: 70080 entries, 0 to 70079\n",
      "Data columns (total 11 columns):\n",
      " #   Column                           Non-Null Count  Dtype  \n",
      "---  ------                           --------------  -----  \n",
      " 0   Time                             70080 non-null  object \n",
      " 1   air_pressure[mmHg]               70080 non-null  float64\n",
      " 2   air_temperature[degree celcius]  70080 non-null  float64\n",
      " 3   relative_humidity[%]             70080 non-null  float64\n",
      " 4   wind_speed[M/S]                  70080 non-null  float64\n",
      " 5   solar_irridiation[W/m²]          70080 non-null  int64  \n",
      " 6   electricity_demand_values[kw]    70080 non-null  float64\n",
      " 7   heat_demand_values[kw]           70080 non-null  float64\n",
      " 8   Month                            70080 non-null  int64  \n",
      " 9   Year                             70080 non-null  int64  \n",
      " 10  Date                             70080 non-null  object \n",
      "dtypes: float64(6), int64(3), object(2)\n",
      "memory usage: 5.9+ MB\n"
     ]
    }
   ],
   "source": [
    "data.info()"
   ]
  },
  {
   "cell_type": "markdown",
   "id": "c942d126",
   "metadata": {},
   "source": [
    "# Generating Time Year Column for Data"
   ]
  },
  {
   "cell_type": "code",
   "execution_count": null,
   "id": "6a6feb7a",
   "metadata": {},
   "outputs": [],
   "source": []
  },
  {
   "cell_type": "code",
   "execution_count": 11,
   "id": "99e35eea",
   "metadata": {},
   "outputs": [],
   "source": [
    "# Extract all Data Like Year MOnth Day Time etc\n",
    "dataset = data\n",
    "dataset[\"Month\"] = pd.to_datetime(data[\"Time\"]).dt.month\n",
    "dataset[\"Year\"] = pd.to_datetime(data[\"Time\"]).dt.year\n",
    "dataset[\"Date\"] = pd.to_datetime(data[\"Time\"]).dt.date\n",
    "dataset[\"Time\"] = pd.to_datetime(data[\"Time\"]).dt.time"
   ]
  },
  {
   "cell_type": "code",
   "execution_count": 12,
   "id": "875d7588",
   "metadata": {},
   "outputs": [
    {
     "data": {
      "text/html": [
       "<div>\n",
       "<style scoped>\n",
       "    .dataframe tbody tr th:only-of-type {\n",
       "        vertical-align: middle;\n",
       "    }\n",
       "\n",
       "    .dataframe tbody tr th {\n",
       "        vertical-align: top;\n",
       "    }\n",
       "\n",
       "    .dataframe thead th {\n",
       "        text-align: right;\n",
       "    }\n",
       "</style>\n",
       "<table border=\"1\" class=\"dataframe\">\n",
       "  <thead>\n",
       "    <tr style=\"text-align: right;\">\n",
       "      <th></th>\n",
       "      <th>Time</th>\n",
       "      <th>air_pressure[mmHg]</th>\n",
       "      <th>air_temperature[degree celcius]</th>\n",
       "      <th>relative_humidity[%]</th>\n",
       "      <th>wind_speed[M/S]</th>\n",
       "      <th>solar_irridiation[W/m²]</th>\n",
       "      <th>electricity_demand_values[kw]</th>\n",
       "      <th>heat_demand_values[kw]</th>\n",
       "      <th>Month</th>\n",
       "      <th>Year</th>\n",
       "      <th>Date</th>\n",
       "    </tr>\n",
       "  </thead>\n",
       "  <tbody>\n",
       "    <tr>\n",
       "      <th>0</th>\n",
       "      <td>00:00:00</td>\n",
       "      <td>729.7</td>\n",
       "      <td>25.0</td>\n",
       "      <td>85.0</td>\n",
       "      <td>5.0</td>\n",
       "      <td>0</td>\n",
       "      <td>289.567557</td>\n",
       "      <td>432.940036</td>\n",
       "      <td>12</td>\n",
       "      <td>2010</td>\n",
       "      <td>2010-12-01</td>\n",
       "    </tr>\n",
       "    <tr>\n",
       "      <th>1</th>\n",
       "      <td>01:00:00</td>\n",
       "      <td>729.4</td>\n",
       "      <td>27.8</td>\n",
       "      <td>77.0</td>\n",
       "      <td>7.0</td>\n",
       "      <td>0</td>\n",
       "      <td>260.168520</td>\n",
       "      <td>473.935901</td>\n",
       "      <td>12</td>\n",
       "      <td>2010</td>\n",
       "      <td>2010-12-01</td>\n",
       "    </tr>\n",
       "    <tr>\n",
       "      <th>2</th>\n",
       "      <td>02:00:00</td>\n",
       "      <td>728.9</td>\n",
       "      <td>33.3</td>\n",
       "      <td>62.0</td>\n",
       "      <td>7.0</td>\n",
       "      <td>0</td>\n",
       "      <td>247.273585</td>\n",
       "      <td>483.278761</td>\n",
       "      <td>12</td>\n",
       "      <td>2010</td>\n",
       "      <td>2010-12-01</td>\n",
       "    </tr>\n",
       "    <tr>\n",
       "      <th>3</th>\n",
       "      <td>03:00:00</td>\n",
       "      <td>731.6</td>\n",
       "      <td>32.2</td>\n",
       "      <td>62.0</td>\n",
       "      <td>2.0</td>\n",
       "      <td>0</td>\n",
       "      <td>257.955878</td>\n",
       "      <td>545.921252</td>\n",
       "      <td>12</td>\n",
       "      <td>2010</td>\n",
       "      <td>2010-12-01</td>\n",
       "    </tr>\n",
       "    <tr>\n",
       "      <th>4</th>\n",
       "      <td>04:00:00</td>\n",
       "      <td>732.6</td>\n",
       "      <td>22.8</td>\n",
       "      <td>96.0</td>\n",
       "      <td>3.0</td>\n",
       "      <td>0</td>\n",
       "      <td>258.255081</td>\n",
       "      <td>550.526112</td>\n",
       "      <td>12</td>\n",
       "      <td>2010</td>\n",
       "      <td>2010-12-01</td>\n",
       "    </tr>\n",
       "    <tr>\n",
       "      <th>...</th>\n",
       "      <td>...</td>\n",
       "      <td>...</td>\n",
       "      <td>...</td>\n",
       "      <td>...</td>\n",
       "      <td>...</td>\n",
       "      <td>...</td>\n",
       "      <td>...</td>\n",
       "      <td>...</td>\n",
       "      <td>...</td>\n",
       "      <td>...</td>\n",
       "      <td>...</td>\n",
       "    </tr>\n",
       "    <tr>\n",
       "      <th>70075</th>\n",
       "      <td>19:00:00</td>\n",
       "      <td>733.3</td>\n",
       "      <td>24.4</td>\n",
       "      <td>60.0</td>\n",
       "      <td>3.0</td>\n",
       "      <td>262</td>\n",
       "      <td>379.637300</td>\n",
       "      <td>626.192823</td>\n",
       "      <td>11</td>\n",
       "      <td>2018</td>\n",
       "      <td>2018-11-28</td>\n",
       "    </tr>\n",
       "    <tr>\n",
       "      <th>70076</th>\n",
       "      <td>20:00:00</td>\n",
       "      <td>733.6</td>\n",
       "      <td>27.8</td>\n",
       "      <td>56.0</td>\n",
       "      <td>4.0</td>\n",
       "      <td>0</td>\n",
       "      <td>369.976634</td>\n",
       "      <td>609.519357</td>\n",
       "      <td>11</td>\n",
       "      <td>2018</td>\n",
       "      <td>2018-11-28</td>\n",
       "    </tr>\n",
       "    <tr>\n",
       "      <th>70077</th>\n",
       "      <td>21:00:00</td>\n",
       "      <td>732.1</td>\n",
       "      <td>38.3</td>\n",
       "      <td>22.0</td>\n",
       "      <td>0.0</td>\n",
       "      <td>0</td>\n",
       "      <td>365.009491</td>\n",
       "      <td>571.465130</td>\n",
       "      <td>11</td>\n",
       "      <td>2018</td>\n",
       "      <td>2018-11-28</td>\n",
       "    </tr>\n",
       "    <tr>\n",
       "      <th>70078</th>\n",
       "      <td>22:00:00</td>\n",
       "      <td>735.3</td>\n",
       "      <td>36.7</td>\n",
       "      <td>25.0</td>\n",
       "      <td>4.0</td>\n",
       "      <td>0</td>\n",
       "      <td>396.966494</td>\n",
       "      <td>583.703242</td>\n",
       "      <td>11</td>\n",
       "      <td>2018</td>\n",
       "      <td>2018-11-28</td>\n",
       "    </tr>\n",
       "    <tr>\n",
       "      <th>70079</th>\n",
       "      <td>23:00:00</td>\n",
       "      <td>735.3</td>\n",
       "      <td>23.9</td>\n",
       "      <td>74.0</td>\n",
       "      <td>0.0</td>\n",
       "      <td>0</td>\n",
       "      <td>489.883188</td>\n",
       "      <td>581.846428</td>\n",
       "      <td>11</td>\n",
       "      <td>2018</td>\n",
       "      <td>2018-11-28</td>\n",
       "    </tr>\n",
       "  </tbody>\n",
       "</table>\n",
       "<p>70080 rows × 11 columns</p>\n",
       "</div>"
      ],
      "text/plain": [
       "           Time  air_pressure[mmHg]  air_temperature[degree celcius]  \\\n",
       "0      00:00:00               729.7                             25.0   \n",
       "1      01:00:00               729.4                             27.8   \n",
       "2      02:00:00               728.9                             33.3   \n",
       "3      03:00:00               731.6                             32.2   \n",
       "4      04:00:00               732.6                             22.8   \n",
       "...         ...                 ...                              ...   \n",
       "70075  19:00:00               733.3                             24.4   \n",
       "70076  20:00:00               733.6                             27.8   \n",
       "70077  21:00:00               732.1                             38.3   \n",
       "70078  22:00:00               735.3                             36.7   \n",
       "70079  23:00:00               735.3                             23.9   \n",
       "\n",
       "       relative_humidity[%]  wind_speed[M/S]  solar_irridiation[W/m²]  \\\n",
       "0                      85.0              5.0                        0   \n",
       "1                      77.0              7.0                        0   \n",
       "2                      62.0              7.0                        0   \n",
       "3                      62.0              2.0                        0   \n",
       "4                      96.0              3.0                        0   \n",
       "...                     ...              ...                      ...   \n",
       "70075                  60.0              3.0                      262   \n",
       "70076                  56.0              4.0                        0   \n",
       "70077                  22.0              0.0                        0   \n",
       "70078                  25.0              4.0                        0   \n",
       "70079                  74.0              0.0                        0   \n",
       "\n",
       "       electricity_demand_values[kw]  heat_demand_values[kw]  Month  Year  \\\n",
       "0                         289.567557              432.940036     12  2010   \n",
       "1                         260.168520              473.935901     12  2010   \n",
       "2                         247.273585              483.278761     12  2010   \n",
       "3                         257.955878              545.921252     12  2010   \n",
       "4                         258.255081              550.526112     12  2010   \n",
       "...                              ...                     ...    ...   ...   \n",
       "70075                     379.637300              626.192823     11  2018   \n",
       "70076                     369.976634              609.519357     11  2018   \n",
       "70077                     365.009491              571.465130     11  2018   \n",
       "70078                     396.966494              583.703242     11  2018   \n",
       "70079                     489.883188              581.846428     11  2018   \n",
       "\n",
       "             Date  \n",
       "0      2010-12-01  \n",
       "1      2010-12-01  \n",
       "2      2010-12-01  \n",
       "3      2010-12-01  \n",
       "4      2010-12-01  \n",
       "...           ...  \n",
       "70075  2018-11-28  \n",
       "70076  2018-11-28  \n",
       "70077  2018-11-28  \n",
       "70078  2018-11-28  \n",
       "70079  2018-11-28  \n",
       "\n",
       "[70080 rows x 11 columns]"
      ]
     },
     "execution_count": 12,
     "metadata": {},
     "output_type": "execute_result"
    }
   ],
   "source": [
    "data"
   ]
  },
  {
   "cell_type": "code",
   "execution_count": 13,
   "id": "dd73ac6b",
   "metadata": {
    "scrolled": false
   },
   "outputs": [
    {
     "name": "stdout",
     "output_type": "stream",
     "text": [
      "[2010 2011 2012 2013 2014 2015 2016 2017 2018] \n",
      "\n",
      "Total Number of Unique Year 9 \n",
      "\n"
     ]
    }
   ],
   "source": [
    "# How many Unique Year do we Have in Dataset \n",
    "print(data.Year.unique(),\"\\n\")\n",
    "print(\"Total Number of Unique Year\", data.Year.nunique(), \"\\n\")"
   ]
  },
  {
   "cell_type": "markdown",
   "id": "6a279d7e",
   "metadata": {},
   "source": [
    "# Exploratory Data Analysis"
   ]
  },
  {
   "cell_type": "code",
   "execution_count": null,
   "id": "6cb29759",
   "metadata": {},
   "outputs": [],
   "source": []
  },
  {
   "cell_type": "markdown",
   "id": "d6685df8",
   "metadata": {},
   "source": [
    "# consumption Each Year"
   ]
  },
  {
   "cell_type": "code",
   "execution_count": 14,
   "id": "cc064e01",
   "metadata": {
    "scrolled": true
   },
   "outputs": [
    {
     "name": "stderr",
     "output_type": "stream",
     "text": [
      "No handles with labels found to put in legend.\n"
     ]
    },
    {
     "data": {
      "text/plain": [
       "Text(0.5, 1.0, 'Energy Consumption According to Year')"
      ]
     },
     "execution_count": 14,
     "metadata": {},
     "output_type": "execute_result"
    },
    {
     "data": {
      "image/png": "[encoded data removed]",
      "text/plain": [
       "<Figure size 432x288 with 1 Axes>"
      ]
     },
     "metadata": {
      "needs_background": "light"
     },
     "output_type": "display_data"
    }
   ],
   "source": [
    "from matplotlib import style\n",
    "\n",
    "fig = plt.figure()\n",
    "ax1 = plt.subplot2grid((1,1), (0,0))\n",
    "\n",
    "style.use('ggplot')\n",
    "\n",
    "sns.lineplot(x=data[\"Year\"], y=dataset[\"electricity_demand_values[kw]\"], data=data)\n",
    "sns.set(rc={'figure.figsize':(15,2)})\n",
    "\n",
    "plt.title(\"Energy consumption Per Year\")\n",
    "plt.xlabel(\"Date\")\n",
    "plt.ylabel(\"Energy in KW\")\n",
    "plt.grid(True)\n",
    "plt.legend()\n",
    "\n",
    "for label in ax1.xaxis.get_ticklabels():\n",
    "    label.set_rotation(90)\n",
    "\n",
    "\n",
    "plt.title(\"Energy Consumption According to Year\")"
   ]
  },
  {
   "cell_type": "markdown",
   "id": "7f68c199",
   "metadata": {},
   "source": [
    "# Voltage Used in Each Month in 2010/2011/2012"
   ]
  },
  {
   "cell_type": "code",
   "execution_count": 16,
   "id": "84ffcb92",
   "metadata": {
    "scrolled": false
   },
   "outputs": [
    {
     "name": "stderr",
     "output_type": "stream",
     "text": [
      "No handles with labels found to put in legend.\n"
     ]
    },
    {
     "data": {
      "image/png": "[encoded data removed]",
      "text/plain": [
       "<Figure size 1296x576 with 3 Axes>"
      ]
     },
     "metadata": {},
     "output_type": "display_data"
    }
   ],
   "source": [
    "from matplotlib import style\n",
    "\n",
    "\n",
    "fig = plt.figure()\n",
    "\n",
    "ax1= fig.add_subplot(311)\n",
    "ax2= fig.add_subplot(312)\n",
    "ax3= fig.add_subplot(313)\n",
    "\n",
    "\n",
    "style.use('ggplot')\n",
    "\n",
    "y_2010 = data.loc[data[\"Year\"]==2010][\"electricity_demand_values[kw]\"].to_list()\n",
    "x_2010 = data.loc[data[\"Year\"]==2010][\"Date\"].to_list()\n",
    "ax1.plot(x_2010,y_2010, color=\"green\", linewidth=1.7)\n",
    "\n",
    "\n",
    "y_2011 =data.loc[data[\"Year\"]==2011][\"electricity_demand_values[kw]\"].to_list()\n",
    "x_2011 =data.loc[data[\"Year\"]==2011][\"Date\"].to_list()\n",
    "ax2.plot(x_2011, y_2011, color=\"green\", linewidth=1)\n",
    "\n",
    "\n",
    "y_2012 = data.loc[data[\"Year\"]==2012][\"electricity_demand_values[kw]\"].to_list()\n",
    "x_2012 = data.loc[data[\"Year\"]==2012][\"Date\"].to_list()\n",
    "ax3.plot(x_2012, y_2012, color=\"green\", linewidth=1)\n",
    "\n",
    "\n",
    "plt.rcParams[\"figure.figsize\"] = (20,8)\n",
    "plt.title(\"Energy consumptionnin\")\n",
    "plt.xlabel(\"Date\")\n",
    "plt.ylabel(\"Energy in KW\")\n",
    "plt.grid(True, alpha=1)\n",
    "plt.legend()\n",
    "\n",
    "for label in ax1.xaxis.get_ticklabels():\n",
    "    label.set_rotation(90)"
   ]
  },
  {
   "cell_type": "markdown",
   "id": "09e9c574",
   "metadata": {},
   "source": [
    "# Voltage Consumption in Each Month  in 2013/2014/2015"
   ]
  },
  {
   "cell_type": "code",
   "execution_count": 17,
   "id": "577522c7",
   "metadata": {},
   "outputs": [
    {
     "name": "stderr",
     "output_type": "stream",
     "text": [
      "No handles with labels found to put in legend.\n"
     ]
    },
    {
     "data": {
      "image/png": "[encoded data removed]",
      "text/plain": [
       "<Figure size 1440x576 with 3 Axes>"
      ]
     },
     "metadata": {},
     "output_type": "display_data"
    }
   ],
   "source": [
    "from matplotlib import style\n",
    "\n",
    "\n",
    "fig = plt.figure()\n",
    "\n",
    "ax4= fig.add_subplot(311)\n",
    "ax5= fig.add_subplot(312)\n",
    "ax6= fig.add_subplot(313)\n",
    "\n",
    "\n",
    "style.use('ggplot')\n",
    "\n",
    "y_2013 = data.loc[data[\"Year\"]==2013][\"electricity_demand_values[kw]\"].to_list()\n",
    "x_2013 = data.loc[data[\"Year\"]==2013][\"Date\"].to_list()\n",
    "ax4.plot(x_2013, y_2013, color=\"green\", linewidth=1.7)\n",
    "\n",
    "\n",
    "\n",
    "y_2014 = data.loc[data[\"Year\"]==2014][\"electricity_demand_values[kw]\"].to_list()\n",
    "x_2014 = data.loc[data[\"Year\"]==2014][\"Date\"].to_list()\n",
    "ax5.plot(x_2014, y_2014, color=\"green\", linewidth=1)\n",
    "\n",
    "\n",
    "y_2015 = data.loc[data[\"Year\"]==2015][\"electricity_demand_values[kw]\"].to_list()\n",
    "x_2015 = data.loc[data[\"Year\"]==2015][\"Date\"].to_list()\n",
    "ax6.plot(x_2015, y_2015, color=\"green\", linewidth=1)\n",
    "\n",
    "\n",
    "plt.rcParams[\"figure.figsize\"] = (15,2)\n",
    "plt.title(\"Energy consumptionnin\")\n",
    "plt.xlabel(\"Date\")\n",
    "plt.ylabel(\"Energy in KW\")\n",
    "plt.grid(True, alpha=1)\n",
    "plt.legend()\n",
    "\n",
    "for label in ax1.xaxis.get_ticklabels():\n",
    "    label.set_rotation(90)"
   ]
  },
  {
   "cell_type": "markdown",
   "id": "c243a01f",
   "metadata": {},
   "source": [
    "# Voltage Consumption in Each Month in 2016/2017/2018\n"
   ]
  },
  {
   "cell_type": "code",
   "execution_count": 19,
   "id": "60bdbc20",
   "metadata": {},
   "outputs": [
    {
     "name": "stderr",
     "output_type": "stream",
     "text": [
      "No handles with labels found to put in legend.\n"
     ]
    },
    {
     "data": {
      "image/png": "[encoded data removed]",
      "text/plain": [
       "<Figure size 1296x576 with 3 Axes>"
      ]
     },
     "metadata": {},
     "output_type": "display_data"
    }
   ],
   "source": [
    "from matplotlib import style\n",
    "\n",
    "\n",
    "fig = plt.figure()\n",
    "\n",
    "ax7= fig.add_subplot(311)\n",
    "ax8= fig.add_subplot(312)\n",
    "ax9= fig.add_subplot(313)\n",
    "\n",
    "\n",
    "style.use('ggplot')\n",
    "\n",
    "y_2016 = data.loc[data[\"Year\"]==2016][\"electricity_demand_values[kw]\"].to_list()\n",
    "x_2016 = data.loc[data[\"Year\"]==2016][\"Date\"].to_list()\n",
    "ax7.plot(x_2016, y_2016, color=\"green\", linewidth=1)\n",
    "\n",
    "\n",
    "\n",
    "y_2017 = data.loc[data[\"Year\"]==2017][\"electricity_demand_values[kw]\"].to_list()\n",
    "x_2017 = data.loc[data[\"Year\"]==2017][\"Date\"].to_list()\n",
    "ax8.plot(x_2017, y_2017, color=\"green\", linewidth=1)\n",
    "\n",
    "\n",
    "\n",
    "y_2018 = data.loc[data[\"Year\"]==2018][\"electricity_demand_values[kw]\"].to_list()\n",
    "x_2018 = data.loc[data[\"Year\"]==2018][\"Date\"].to_list()\n",
    "ax9.plot(x_2018, y_2018, color=\"green\", linewidth=1)\n",
    "\n",
    "plt.rcParams[\"figure.figsize\"] = (20,8)\n",
    "plt.title(\"Energy consumptionnin\")\n",
    "plt.xlabel(\"Date\")\n",
    "plt.ylabel(\"Energy in KW\")\n",
    "plt.grid(True, alpha=1)\n",
    "plt.legend()\n",
    "\n",
    "for label in ax1.xaxis.get_ticklabels():\n",
    "    label.set_rotation(90)"
   ]
  },
  {
   "cell_type": "markdown",
   "id": "251ed42e",
   "metadata": {},
   "source": [
    "# Energy Distribution"
   ]
  },
  {
   "cell_type": "code",
   "execution_count": 20,
   "id": "b1ebca70",
   "metadata": {
    "scrolled": false
   },
   "outputs": [
    {
     "name": "stderr",
     "output_type": "stream",
     "text": [
      "C:\\Users\\Acer\\anaconda3\\lib\\site-packages\\seaborn\\distributions.py:2557: FutureWarning: `distplot` is a deprecated function and will be removed in a future version. Please adapt your code to use either `displot` (a figure-level function with similar flexibility) or `histplot` (an axes-level function for histograms).\n",
      "  warnings.warn(msg, FutureWarning)\n"
     ]
    },
    {
     "data": {
      "text/plain": [
       "Text(0.5, 1.0, 'Ennergy Distribution')"
      ]
     },
     "execution_count": 20,
     "metadata": {},
     "output_type": "execute_result"
    },
    {
     "data": {
      "image/png": "[encoded data removed]",
      "text/plain": [
       "<Figure size 1440x576 with 1 Axes>"
      ]
     },
     "metadata": {},
     "output_type": "display_data"
    }
   ],
   "source": [
    "sns.distplot(dataset[\"electricity_demand_values[kw]\"])\n",
    "plt.title(\"Ennergy Distribution\")"
   ]
  },
  {
   "cell_type": "code",
   "execution_count": null,
   "id": "86eb1e47",
   "metadata": {},
   "outputs": [],
   "source": []
  },
  {
   "cell_type": "code",
   "execution_count": null,
   "id": "425f62c6",
   "metadata": {},
   "outputs": [],
   "source": []
  },
  {
   "cell_type": "code",
   "execution_count": 21,
   "id": "32b77c73",
   "metadata": {},
   "outputs": [],
   "source": [
    "data['DateTime'] = data['Date'].astype(str).str.cat(data['Time'].astype(str), sep=' ')"
   ]
  },
  {
   "cell_type": "code",
   "execution_count": 22,
   "id": "f5baccf8",
   "metadata": {},
   "outputs": [],
   "source": [
    "data.drop([\"Time\",\"Month\",\"Year\",\"Date\"],axis=1,inplace=True)"
   ]
  },
  {
   "cell_type": "code",
   "execution_count": 23,
   "id": "5bbe5004",
   "metadata": {},
   "outputs": [
    {
     "data": {
      "text/html": [
       "<div>\n",
       "<style scoped>\n",
       "    .dataframe tbody tr th:only-of-type {\n",
       "        vertical-align: middle;\n",
       "    }\n",
       "\n",
       "    .dataframe tbody tr th {\n",
       "        vertical-align: top;\n",
       "    }\n",
       "\n",
       "    .dataframe thead th {\n",
       "        text-align: right;\n",
       "    }\n",
       "</style>\n",
       "<table border=\"1\" class=\"dataframe\">\n",
       "  <thead>\n",
       "    <tr style=\"text-align: right;\">\n",
       "      <th></th>\n",
       "      <th>air_pressure[mmHg]</th>\n",
       "      <th>air_temperature[degree celcius]</th>\n",
       "      <th>relative_humidity[%]</th>\n",
       "      <th>wind_speed[M/S]</th>\n",
       "      <th>solar_irridiation[W/m²]</th>\n",
       "      <th>electricity_demand_values[kw]</th>\n",
       "      <th>heat_demand_values[kw]</th>\n",
       "      <th>DateTime</th>\n",
       "    </tr>\n",
       "  </thead>\n",
       "  <tbody>\n",
       "    <tr>\n",
       "      <th>0</th>\n",
       "      <td>729.7</td>\n",
       "      <td>25.0</td>\n",
       "      <td>85.0</td>\n",
       "      <td>5.0</td>\n",
       "      <td>0</td>\n",
       "      <td>289.567557</td>\n",
       "      <td>432.940036</td>\n",
       "      <td>2010-12-01 00:00:00</td>\n",
       "    </tr>\n",
       "    <tr>\n",
       "      <th>1</th>\n",
       "      <td>729.4</td>\n",
       "      <td>27.8</td>\n",
       "      <td>77.0</td>\n",
       "      <td>7.0</td>\n",
       "      <td>0</td>\n",
       "      <td>260.168520</td>\n",
       "      <td>473.935901</td>\n",
       "      <td>2010-12-01 01:00:00</td>\n",
       "    </tr>\n",
       "    <tr>\n",
       "      <th>2</th>\n",
       "      <td>728.9</td>\n",
       "      <td>33.3</td>\n",
       "      <td>62.0</td>\n",
       "      <td>7.0</td>\n",
       "      <td>0</td>\n",
       "      <td>247.273585</td>\n",
       "      <td>483.278761</td>\n",
       "      <td>2010-12-01 02:00:00</td>\n",
       "    </tr>\n",
       "    <tr>\n",
       "      <th>3</th>\n",
       "      <td>731.6</td>\n",
       "      <td>32.2</td>\n",
       "      <td>62.0</td>\n",
       "      <td>2.0</td>\n",
       "      <td>0</td>\n",
       "      <td>257.955878</td>\n",
       "      <td>545.921252</td>\n",
       "      <td>2010-12-01 03:00:00</td>\n",
       "    </tr>\n",
       "    <tr>\n",
       "      <th>4</th>\n",
       "      <td>732.6</td>\n",
       "      <td>22.8</td>\n",
       "      <td>96.0</td>\n",
       "      <td>3.0</td>\n",
       "      <td>0</td>\n",
       "      <td>258.255081</td>\n",
       "      <td>550.526112</td>\n",
       "      <td>2010-12-01 04:00:00</td>\n",
       "    </tr>\n",
       "    <tr>\n",
       "      <th>...</th>\n",
       "      <td>...</td>\n",
       "      <td>...</td>\n",
       "      <td>...</td>\n",
       "      <td>...</td>\n",
       "      <td>...</td>\n",
       "      <td>...</td>\n",
       "      <td>...</td>\n",
       "      <td>...</td>\n",
       "    </tr>\n",
       "    <tr>\n",
       "      <th>70075</th>\n",
       "      <td>733.3</td>\n",
       "      <td>24.4</td>\n",
       "      <td>60.0</td>\n",
       "      <td>3.0</td>\n",
       "      <td>262</td>\n",
       "      <td>379.637300</td>\n",
       "      <td>626.192823</td>\n",
       "      <td>2018-11-28 19:00:00</td>\n",
       "    </tr>\n",
       "    <tr>\n",
       "      <th>70076</th>\n",
       "      <td>733.6</td>\n",
       "      <td>27.8</td>\n",
       "      <td>56.0</td>\n",
       "      <td>4.0</td>\n",
       "      <td>0</td>\n",
       "      <td>369.976634</td>\n",
       "      <td>609.519357</td>\n",
       "      <td>2018-11-28 20:00:00</td>\n",
       "    </tr>\n",
       "    <tr>\n",
       "      <th>70077</th>\n",
       "      <td>732.1</td>\n",
       "      <td>38.3</td>\n",
       "      <td>22.0</td>\n",
       "      <td>0.0</td>\n",
       "      <td>0</td>\n",
       "      <td>365.009491</td>\n",
       "      <td>571.465130</td>\n",
       "      <td>2018-11-28 21:00:00</td>\n",
       "    </tr>\n",
       "    <tr>\n",
       "      <th>70078</th>\n",
       "      <td>735.3</td>\n",
       "      <td>36.7</td>\n",
       "      <td>25.0</td>\n",
       "      <td>4.0</td>\n",
       "      <td>0</td>\n",
       "      <td>396.966494</td>\n",
       "      <td>583.703242</td>\n",
       "      <td>2018-11-28 22:00:00</td>\n",
       "    </tr>\n",
       "    <tr>\n",
       "      <th>70079</th>\n",
       "      <td>735.3</td>\n",
       "      <td>23.9</td>\n",
       "      <td>74.0</td>\n",
       "      <td>0.0</td>\n",
       "      <td>0</td>\n",
       "      <td>489.883188</td>\n",
       "      <td>581.846428</td>\n",
       "      <td>2018-11-28 23:00:00</td>\n",
       "    </tr>\n",
       "  </tbody>\n",
       "</table>\n",
       "<p>70080 rows × 8 columns</p>\n",
       "</div>"
      ],
      "text/plain": [
       "       air_pressure[mmHg]  air_temperature[degree celcius]  \\\n",
       "0                   729.7                             25.0   \n",
       "1                   729.4                             27.8   \n",
       "2                   728.9                             33.3   \n",
       "3                   731.6                             32.2   \n",
       "4                   732.6                             22.8   \n",
       "...                   ...                              ...   \n",
       "70075               733.3                             24.4   \n",
       "70076               733.6                             27.8   \n",
       "70077               732.1                             38.3   \n",
       "70078               735.3                             36.7   \n",
       "70079               735.3                             23.9   \n",
       "\n",
       "       relative_humidity[%]  wind_speed[M/S]  solar_irridiation[W/m²]  \\\n",
       "0                      85.0              5.0                        0   \n",
       "1                      77.0              7.0                        0   \n",
       "2                      62.0              7.0                        0   \n",
       "3                      62.0              2.0                        0   \n",
       "4                      96.0              3.0                        0   \n",
       "...                     ...              ...                      ...   \n",
       "70075                  60.0              3.0                      262   \n",
       "70076                  56.0              4.0                        0   \n",
       "70077                  22.0              0.0                        0   \n",
       "70078                  25.0              4.0                        0   \n",
       "70079                  74.0              0.0                        0   \n",
       "\n",
       "       electricity_demand_values[kw]  heat_demand_values[kw]  \\\n",
       "0                         289.567557              432.940036   \n",
       "1                         260.168520              473.935901   \n",
       "2                         247.273585              483.278761   \n",
       "3                         257.955878              545.921252   \n",
       "4                         258.255081              550.526112   \n",
       "...                              ...                     ...   \n",
       "70075                     379.637300              626.192823   \n",
       "70076                     369.976634              609.519357   \n",
       "70077                     365.009491              571.465130   \n",
       "70078                     396.966494              583.703242   \n",
       "70079                     489.883188              581.846428   \n",
       "\n",
       "                  DateTime  \n",
       "0      2010-12-01 00:00:00  \n",
       "1      2010-12-01 01:00:00  \n",
       "2      2010-12-01 02:00:00  \n",
       "3      2010-12-01 03:00:00  \n",
       "4      2010-12-01 04:00:00  \n",
       "...                    ...  \n",
       "70075  2018-11-28 19:00:00  \n",
       "70076  2018-11-28 20:00:00  \n",
       "70077  2018-11-28 21:00:00  \n",
       "70078  2018-11-28 22:00:00  \n",
       "70079  2018-11-28 23:00:00  \n",
       "\n",
       "[70080 rows x 8 columns]"
      ]
     },
     "execution_count": 23,
     "metadata": {},
     "output_type": "execute_result"
    }
   ],
   "source": [
    "data"
   ]
  },
  {
   "cell_type": "code",
   "execution_count": 24,
   "id": "ee098fad",
   "metadata": {},
   "outputs": [],
   "source": [
    "data.set_index([\"DateTime\"],inplace=True)"
   ]
  },
  {
   "cell_type": "code",
   "execution_count": 25,
   "id": "84f7e1d7",
   "metadata": {},
   "outputs": [
    {
     "data": {
      "text/html": [
       "<div>\n",
       "<style scoped>\n",
       "    .dataframe tbody tr th:only-of-type {\n",
       "        vertical-align: middle;\n",
       "    }\n",
       "\n",
       "    .dataframe tbody tr th {\n",
       "        vertical-align: top;\n",
       "    }\n",
       "\n",
       "    .dataframe thead th {\n",
       "        text-align: right;\n",
       "    }\n",
       "</style>\n",
       "<table border=\"1\" class=\"dataframe\">\n",
       "  <thead>\n",
       "    <tr style=\"text-align: right;\">\n",
       "      <th></th>\n",
       "      <th>air_pressure[mmHg]</th>\n",
       "      <th>air_temperature[degree celcius]</th>\n",
       "      <th>relative_humidity[%]</th>\n",
       "      <th>wind_speed[M/S]</th>\n",
       "      <th>solar_irridiation[W/m²]</th>\n",
       "      <th>electricity_demand_values[kw]</th>\n",
       "      <th>heat_demand_values[kw]</th>\n",
       "    </tr>\n",
       "    <tr>\n",
       "      <th>DateTime</th>\n",
       "      <th></th>\n",
       "      <th></th>\n",
       "      <th></th>\n",
       "      <th></th>\n",
       "      <th></th>\n",
       "      <th></th>\n",
       "      <th></th>\n",
       "    </tr>\n",
       "  </thead>\n",
       "  <tbody>\n",
       "    <tr>\n",
       "      <th>2010-12-01 00:00:00</th>\n",
       "      <td>729.7</td>\n",
       "      <td>25.0</td>\n",
       "      <td>85.0</td>\n",
       "      <td>5.0</td>\n",
       "      <td>0</td>\n",
       "      <td>289.567557</td>\n",
       "      <td>432.940036</td>\n",
       "    </tr>\n",
       "    <tr>\n",
       "      <th>2010-12-01 01:00:00</th>\n",
       "      <td>729.4</td>\n",
       "      <td>27.8</td>\n",
       "      <td>77.0</td>\n",
       "      <td>7.0</td>\n",
       "      <td>0</td>\n",
       "      <td>260.168520</td>\n",
       "      <td>473.935901</td>\n",
       "    </tr>\n",
       "    <tr>\n",
       "      <th>2010-12-01 02:00:00</th>\n",
       "      <td>728.9</td>\n",
       "      <td>33.3</td>\n",
       "      <td>62.0</td>\n",
       "      <td>7.0</td>\n",
       "      <td>0</td>\n",
       "      <td>247.273585</td>\n",
       "      <td>483.278761</td>\n",
       "    </tr>\n",
       "    <tr>\n",
       "      <th>2010-12-01 03:00:00</th>\n",
       "      <td>731.6</td>\n",
       "      <td>32.2</td>\n",
       "      <td>62.0</td>\n",
       "      <td>2.0</td>\n",
       "      <td>0</td>\n",
       "      <td>257.955878</td>\n",
       "      <td>545.921252</td>\n",
       "    </tr>\n",
       "    <tr>\n",
       "      <th>2010-12-01 04:00:00</th>\n",
       "      <td>732.6</td>\n",
       "      <td>22.8</td>\n",
       "      <td>96.0</td>\n",
       "      <td>3.0</td>\n",
       "      <td>0</td>\n",
       "      <td>258.255081</td>\n",
       "      <td>550.526112</td>\n",
       "    </tr>\n",
       "  </tbody>\n",
       "</table>\n",
       "</div>"
      ],
      "text/plain": [
       "                     air_pressure[mmHg]  air_temperature[degree celcius]  \\\n",
       "DateTime                                                                   \n",
       "2010-12-01 00:00:00               729.7                             25.0   \n",
       "2010-12-01 01:00:00               729.4                             27.8   \n",
       "2010-12-01 02:00:00               728.9                             33.3   \n",
       "2010-12-01 03:00:00               731.6                             32.2   \n",
       "2010-12-01 04:00:00               732.6                             22.8   \n",
       "\n",
       "                     relative_humidity[%]  wind_speed[M/S]  \\\n",
       "DateTime                                                     \n",
       "2010-12-01 00:00:00                  85.0              5.0   \n",
       "2010-12-01 01:00:00                  77.0              7.0   \n",
       "2010-12-01 02:00:00                  62.0              7.0   \n",
       "2010-12-01 03:00:00                  62.0              2.0   \n",
       "2010-12-01 04:00:00                  96.0              3.0   \n",
       "\n",
       "                     solar_irridiation[W/m²]  electricity_demand_values[kw]  \\\n",
       "DateTime                                                                      \n",
       "2010-12-01 00:00:00                        0                     289.567557   \n",
       "2010-12-01 01:00:00                        0                     260.168520   \n",
       "2010-12-01 02:00:00                        0                     247.273585   \n",
       "2010-12-01 03:00:00                        0                     257.955878   \n",
       "2010-12-01 04:00:00                        0                     258.255081   \n",
       "\n",
       "                     heat_demand_values[kw]  \n",
       "DateTime                                     \n",
       "2010-12-01 00:00:00              432.940036  \n",
       "2010-12-01 01:00:00              473.935901  \n",
       "2010-12-01 02:00:00              483.278761  \n",
       "2010-12-01 03:00:00              545.921252  \n",
       "2010-12-01 04:00:00              550.526112  "
      ]
     },
     "execution_count": 25,
     "metadata": {},
     "output_type": "execute_result"
    }
   ],
   "source": [
    "data.head()"
   ]
  },
  {
   "cell_type": "code",
   "execution_count": 26,
   "id": "8896a094",
   "metadata": {},
   "outputs": [],
   "source": [
    "data=data.astype('float')"
   ]
  },
  {
   "cell_type": "code",
   "execution_count": 27,
   "id": "a90e89a8",
   "metadata": {},
   "outputs": [],
   "source": [
    "data.to_csv(\"Cleaned_Data1.csv\")"
   ]
  },
  {
   "cell_type": "code",
   "execution_count": 30,
   "id": "175a8fd0",
   "metadata": {},
   "outputs": [],
   "source": [
    "data2=pd.read_csv(\"Cleaned_Data1.csv\",parse_dates=True,index_col='DateTime',low_memory=False)"
   ]
  },
  {
   "cell_type": "code",
   "execution_count": 31,
   "id": "e54f223d",
   "metadata": {},
   "outputs": [
    {
     "name": "stdout",
     "output_type": "stream",
     "text": [
      "<class 'pandas.core.frame.DataFrame'>\n",
      "DatetimeIndex: 70080 entries, 2010-12-01 00:00:00 to 2018-11-28 23:00:00\n",
      "Data columns (total 7 columns):\n",
      " #   Column                           Non-Null Count  Dtype  \n",
      "---  ------                           --------------  -----  \n",
      " 0   air_pressure[mmHg]               70080 non-null  float64\n",
      " 1   air_temperature[degree celcius]  70080 non-null  float64\n",
      " 2   relative_humidity[%]             69903 non-null  float64\n",
      " 3   wind_speed[M/S]                  70080 non-null  float64\n",
      " 4   solar_irridiation[W/m²]          70080 non-null  float64\n",
      " 5   electricity_demand_values[kw]    70080 non-null  float64\n",
      " 6   heat_demand_values[kw]           70080 non-null  float64\n",
      "dtypes: float64(7)\n",
      "memory usage: 4.3 MB\n"
     ]
    }
   ],
   "source": [
    "data2.info()"
   ]
  },
  {
   "cell_type": "code",
   "execution_count": 32,
   "id": "b80da6c3",
   "metadata": {
    "scrolled": true
   },
   "outputs": [
    {
     "data": {
      "text/html": [
       "<div>\n",
       "<style scoped>\n",
       "    .dataframe tbody tr th:only-of-type {\n",
       "        vertical-align: middle;\n",
       "    }\n",
       "\n",
       "    .dataframe tbody tr th {\n",
       "        vertical-align: top;\n",
       "    }\n",
       "\n",
       "    .dataframe thead th {\n",
       "        text-align: right;\n",
       "    }\n",
       "</style>\n",
       "<table border=\"1\" class=\"dataframe\">\n",
       "  <thead>\n",
       "    <tr style=\"text-align: right;\">\n",
       "      <th></th>\n",
       "      <th>air_pressure[mmHg]</th>\n",
       "      <th>air_temperature[degree celcius]</th>\n",
       "      <th>relative_humidity[%]</th>\n",
       "      <th>wind_speed[M/S]</th>\n",
       "      <th>solar_irridiation[W/m²]</th>\n",
       "      <th>electricity_demand_values[kw]</th>\n",
       "      <th>heat_demand_values[kw]</th>\n",
       "    </tr>\n",
       "    <tr>\n",
       "      <th>DateTime</th>\n",
       "      <th></th>\n",
       "      <th></th>\n",
       "      <th></th>\n",
       "      <th></th>\n",
       "      <th></th>\n",
       "      <th></th>\n",
       "      <th></th>\n",
       "    </tr>\n",
       "  </thead>\n",
       "  <tbody>\n",
       "    <tr>\n",
       "      <th>2010-12-01</th>\n",
       "      <td>17569.0</td>\n",
       "      <td>666.7</td>\n",
       "      <td>1840.0</td>\n",
       "      <td>92.000000</td>\n",
       "      <td>6404.0</td>\n",
       "      <td>8549.852211</td>\n",
       "      <td>6881.646223</td>\n",
       "    </tr>\n",
       "    <tr>\n",
       "      <th>2010-12-02</th>\n",
       "      <td>17510.0</td>\n",
       "      <td>684.1</td>\n",
       "      <td>1722.0</td>\n",
       "      <td>159.000000</td>\n",
       "      <td>6526.0</td>\n",
       "      <td>7910.870398</td>\n",
       "      <td>4721.360230</td>\n",
       "    </tr>\n",
       "    <tr>\n",
       "      <th>2010-12-03</th>\n",
       "      <td>17584.5</td>\n",
       "      <td>617.1</td>\n",
       "      <td>1716.0</td>\n",
       "      <td>113.000000</td>\n",
       "      <td>5743.0</td>\n",
       "      <td>8758.895028</td>\n",
       "      <td>8530.596629</td>\n",
       "    </tr>\n",
       "    <tr>\n",
       "      <th>2010-12-04</th>\n",
       "      <td>17618.1</td>\n",
       "      <td>647.8</td>\n",
       "      <td>1398.0</td>\n",
       "      <td>154.000000</td>\n",
       "      <td>6523.0</td>\n",
       "      <td>10013.066990</td>\n",
       "      <td>14129.057624</td>\n",
       "    </tr>\n",
       "    <tr>\n",
       "      <th>2010-12-05</th>\n",
       "      <td>17686.0</td>\n",
       "      <td>600.1</td>\n",
       "      <td>1066.0</td>\n",
       "      <td>137.000000</td>\n",
       "      <td>6258.0</td>\n",
       "      <td>10694.276861</td>\n",
       "      <td>17116.650725</td>\n",
       "    </tr>\n",
       "    <tr>\n",
       "      <th>2010-12-06</th>\n",
       "      <td>17526.9</td>\n",
       "      <td>676.6</td>\n",
       "      <td>1557.0</td>\n",
       "      <td>106.828268</td>\n",
       "      <td>6904.0</td>\n",
       "      <td>9259.911034</td>\n",
       "      <td>10709.736497</td>\n",
       "    </tr>\n",
       "    <tr>\n",
       "      <th>2010-12-07</th>\n",
       "      <td>17686.2</td>\n",
       "      <td>573.8</td>\n",
       "      <td>1529.0</td>\n",
       "      <td>91.000000</td>\n",
       "      <td>6835.0</td>\n",
       "      <td>9791.060912</td>\n",
       "      <td>12392.911177</td>\n",
       "    </tr>\n",
       "    <tr>\n",
       "      <th>2010-12-08</th>\n",
       "      <td>17530.7</td>\n",
       "      <td>530.9</td>\n",
       "      <td>1723.0</td>\n",
       "      <td>140.000000</td>\n",
       "      <td>6407.0</td>\n",
       "      <td>9338.504217</td>\n",
       "      <td>10372.162060</td>\n",
       "    </tr>\n",
       "    <tr>\n",
       "      <th>2010-12-09</th>\n",
       "      <td>17539.2</td>\n",
       "      <td>543.8</td>\n",
       "      <td>1756.0</td>\n",
       "      <td>117.000000</td>\n",
       "      <td>6327.0</td>\n",
       "      <td>8722.556863</td>\n",
       "      <td>8324.017311</td>\n",
       "    </tr>\n",
       "    <tr>\n",
       "      <th>2010-12-10</th>\n",
       "      <td>17598.1</td>\n",
       "      <td>496.5</td>\n",
       "      <td>1664.0</td>\n",
       "      <td>148.000000</td>\n",
       "      <td>6898.0</td>\n",
       "      <td>8308.701419</td>\n",
       "      <td>6491.096115</td>\n",
       "    </tr>\n",
       "    <tr>\n",
       "      <th>2010-12-11</th>\n",
       "      <td>17627.8</td>\n",
       "      <td>529.0</td>\n",
       "      <td>1273.0</td>\n",
       "      <td>149.000000</td>\n",
       "      <td>5725.0</td>\n",
       "      <td>9378.021443</td>\n",
       "      <td>11260.431201</td>\n",
       "    </tr>\n",
       "    <tr>\n",
       "      <th>2010-12-12</th>\n",
       "      <td>17572.2</td>\n",
       "      <td>561.6</td>\n",
       "      <td>1248.0</td>\n",
       "      <td>148.000000</td>\n",
       "      <td>7433.0</td>\n",
       "      <td>9235.271623</td>\n",
       "      <td>10605.775217</td>\n",
       "    </tr>\n",
       "    <tr>\n",
       "      <th>2010-12-13</th>\n",
       "      <td>17556.6</td>\n",
       "      <td>474.6</td>\n",
       "      <td>1463.0</td>\n",
       "      <td>134.000000</td>\n",
       "      <td>6300.0</td>\n",
       "      <td>9989.506677</td>\n",
       "      <td>13966.807040</td>\n",
       "    </tr>\n",
       "    <tr>\n",
       "      <th>2010-12-14</th>\n",
       "      <td>17618.2</td>\n",
       "      <td>311.8</td>\n",
       "      <td>1704.0</td>\n",
       "      <td>107.000000</td>\n",
       "      <td>6273.0</td>\n",
       "      <td>10497.548672</td>\n",
       "      <td>15523.648267</td>\n",
       "    </tr>\n",
       "    <tr>\n",
       "      <th>2010-12-15</th>\n",
       "      <td>17618.0</td>\n",
       "      <td>307.2</td>\n",
       "      <td>1647.0</td>\n",
       "      <td>142.000000</td>\n",
       "      <td>5588.0</td>\n",
       "      <td>9372.873155</td>\n",
       "      <td>10519.094662</td>\n",
       "    </tr>\n",
       "  </tbody>\n",
       "</table>\n",
       "</div>"
      ],
      "text/plain": [
       "            air_pressure[mmHg]  air_temperature[degree celcius]  \\\n",
       "DateTime                                                          \n",
       "2010-12-01             17569.0                            666.7   \n",
       "2010-12-02             17510.0                            684.1   \n",
       "2010-12-03             17584.5                            617.1   \n",
       "2010-12-04             17618.1                            647.8   \n",
       "2010-12-05             17686.0                            600.1   \n",
       "2010-12-06             17526.9                            676.6   \n",
       "2010-12-07             17686.2                            573.8   \n",
       "2010-12-08             17530.7                            530.9   \n",
       "2010-12-09             17539.2                            543.8   \n",
       "2010-12-10             17598.1                            496.5   \n",
       "2010-12-11             17627.8                            529.0   \n",
       "2010-12-12             17572.2                            561.6   \n",
       "2010-12-13             17556.6                            474.6   \n",
       "2010-12-14             17618.2                            311.8   \n",
       "2010-12-15             17618.0                            307.2   \n",
       "\n",
       "            relative_humidity[%]  wind_speed[M/S]  solar_irridiation[W/m²]  \\\n",
       "DateTime                                                                     \n",
       "2010-12-01                1840.0        92.000000                   6404.0   \n",
       "2010-12-02                1722.0       159.000000                   6526.0   \n",
       "2010-12-03                1716.0       113.000000                   5743.0   \n",
       "2010-12-04                1398.0       154.000000                   6523.0   \n",
       "2010-12-05                1066.0       137.000000                   6258.0   \n",
       "2010-12-06                1557.0       106.828268                   6904.0   \n",
       "2010-12-07                1529.0        91.000000                   6835.0   \n",
       "2010-12-08                1723.0       140.000000                   6407.0   \n",
       "2010-12-09                1756.0       117.000000                   6327.0   \n",
       "2010-12-10                1664.0       148.000000                   6898.0   \n",
       "2010-12-11                1273.0       149.000000                   5725.0   \n",
       "2010-12-12                1248.0       148.000000                   7433.0   \n",
       "2010-12-13                1463.0       134.000000                   6300.0   \n",
       "2010-12-14                1704.0       107.000000                   6273.0   \n",
       "2010-12-15                1647.0       142.000000                   5588.0   \n",
       "\n",
       "            electricity_demand_values[kw]  heat_demand_values[kw]  \n",
       "DateTime                                                           \n",
       "2010-12-01                    8549.852211             6881.646223  \n",
       "2010-12-02                    7910.870398             4721.360230  \n",
       "2010-12-03                    8758.895028             8530.596629  \n",
       "2010-12-04                   10013.066990            14129.057624  \n",
       "2010-12-05                   10694.276861            17116.650725  \n",
       "2010-12-06                    9259.911034            10709.736497  \n",
       "2010-12-07                    9791.060912            12392.911177  \n",
       "2010-12-08                    9338.504217            10372.162060  \n",
       "2010-12-09                    8722.556863             8324.017311  \n",
       "2010-12-10                    8308.701419             6491.096115  \n",
       "2010-12-11                    9378.021443            11260.431201  \n",
       "2010-12-12                    9235.271623            10605.775217  \n",
       "2010-12-13                    9989.506677            13966.807040  \n",
       "2010-12-14                   10497.548672            15523.648267  \n",
       "2010-12-15                    9372.873155            10519.094662  "
      ]
     },
     "execution_count": 32,
     "metadata": {},
     "output_type": "execute_result"
    }
   ],
   "source": [
    "data3=data2.resample('D').sum()\n",
    "data3.head(15)"
   ]
  },
  {
   "cell_type": "code",
   "execution_count": 33,
   "id": "9582ef8b",
   "metadata": {},
   "outputs": [],
   "source": [
    "data_train=data3.loc[:'2017-12-29',:][\"electricity_demand_values[kw]\"]"
   ]
  },
  {
   "cell_type": "code",
   "execution_count": 34,
   "id": "4a809822",
   "metadata": {},
   "outputs": [
    {
     "data": {
      "text/plain": [
       "DateTime\n",
       "2010-12-01     8549.852211\n",
       "2010-12-02     7910.870398\n",
       "2010-12-03     8758.895028\n",
       "2010-12-04    10013.066990\n",
       "2010-12-05    10694.276861\n",
       "2010-12-06     9259.911034\n",
       "2010-12-07     9791.060912\n",
       "2010-12-08     9338.504217\n",
       "2010-12-09     8722.556863\n",
       "2010-12-10     8308.701419\n",
       "2010-12-11     9378.021443\n",
       "2010-12-12     9235.271623\n",
       "2010-12-13     9989.506677\n",
       "2010-12-14    10497.548672\n",
       "2010-12-15     9372.873155\n",
       "2010-12-16     9642.006543\n",
       "2010-12-17    10833.626185\n",
       "2010-12-18     9970.866886\n",
       "2010-12-19    10241.887128\n",
       "2010-12-20    11797.296917\n",
       "Freq: D, Name: electricity_demand_values[kw], dtype: float64"
      ]
     },
     "execution_count": 34,
     "metadata": {},
     "output_type": "execute_result"
    }
   ],
   "source": [
    "data_train.head(20)"
   ]
  },
  {
   "cell_type": "code",
   "execution_count": 35,
   "id": "339f682c",
   "metadata": {
    "scrolled": true
   },
   "outputs": [
    {
     "name": "stderr",
     "output_type": "stream",
     "text": [
      "<ipython-input-35-9b821b3bcf84>:1: FutureWarning: Indexing a DataFrame with a datetimelike index using a single string to slice the rows, like `frame[string]`, is deprecated and will be removed in a future version. Use `frame.loc[string]` instead.\n",
      "  data_test=data3['2018'][\"electricity_demand_values[kw]\"]\n"
     ]
    }
   ],
   "source": [
    "data_test=data3['2018'][\"electricity_demand_values[kw]\"]"
   ]
  },
  {
   "cell_type": "code",
   "execution_count": 36,
   "id": "35e0bf88",
   "metadata": {},
   "outputs": [
    {
     "data": {
      "text/plain": [
       "((2586,), (332,))"
      ]
     },
     "execution_count": 36,
     "metadata": {},
     "output_type": "execute_result"
    }
   ],
   "source": [
    "data_train.shape,data_test.shape"
   ]
  },
  {
   "cell_type": "code",
   "execution_count": 37,
   "id": "be07f0b5",
   "metadata": {},
   "outputs": [
    {
     "data": {
      "text/plain": [
       "DateTime\n",
       "2010-12-01     8549.852211\n",
       "2010-12-02     7910.870398\n",
       "2010-12-03     8758.895028\n",
       "2010-12-04    10013.066990\n",
       "2010-12-05    10694.276861\n",
       "                  ...     \n",
       "2017-12-25    11797.158706\n",
       "2017-12-26    12768.689584\n",
       "2017-12-27    11360.327345\n",
       "2017-12-28    10720.627819\n",
       "2017-12-29    10752.935644\n",
       "Freq: D, Name: electricity_demand_values[kw], Length: 2586, dtype: float64"
      ]
     },
     "execution_count": 37,
     "metadata": {},
     "output_type": "execute_result"
    }
   ],
   "source": [
    "data_train"
   ]
  },
  {
   "cell_type": "markdown",
   "id": "2fdaf6c7",
   "metadata": {},
   "source": [
    "# Preparing Training Data"
   ]
  },
  {
   "cell_type": "code",
   "execution_count": 38,
   "id": "ca2e524f",
   "metadata": {},
   "outputs": [],
   "source": [
    "data_train=np.array(data_train)"
   ]
  },
  {
   "cell_type": "code",
   "execution_count": 39,
   "id": "bb277b2b",
   "metadata": {},
   "outputs": [],
   "source": [
    "x_train,y_train=[],[]\n",
    "\n",
    "for i in range(7,len(data_train)-7):\n",
    "    x_train.append(data_train[i-7:i])\n",
    "    \n",
    "    y_train.append(data_train[i:i+7])"
   ]
  },
  {
   "cell_type": "code",
   "execution_count": 40,
   "id": "b300cdca",
   "metadata": {},
   "outputs": [],
   "source": [
    "x_train,y_train=np.array(x_train),np.array(y_train)"
   ]
  },
  {
   "cell_type": "code",
   "execution_count": 41,
   "id": "c62f16ba",
   "metadata": {},
   "outputs": [
    {
     "data": {
      "text/plain": [
       "((2572, 7), (2572, 7))"
      ]
     },
     "execution_count": 41,
     "metadata": {},
     "output_type": "execute_result"
    }
   ],
   "source": [
    "x_train.shape,y_train.shape"
   ]
  },
  {
   "cell_type": "code",
   "execution_count": 42,
   "id": "ee4e6f68",
   "metadata": {
    "scrolled": true
   },
   "outputs": [
    {
     "data": {
      "text/html": [
       "<div>\n",
       "<style scoped>\n",
       "    .dataframe tbody tr th:only-of-type {\n",
       "        vertical-align: middle;\n",
       "    }\n",
       "\n",
       "    .dataframe tbody tr th {\n",
       "        vertical-align: top;\n",
       "    }\n",
       "\n",
       "    .dataframe thead th {\n",
       "        text-align: right;\n",
       "    }\n",
       "</style>\n",
       "<table border=\"1\" class=\"dataframe\">\n",
       "  <thead>\n",
       "    <tr style=\"text-align: right;\">\n",
       "      <th></th>\n",
       "      <th>0</th>\n",
       "      <th>1</th>\n",
       "      <th>2</th>\n",
       "      <th>3</th>\n",
       "      <th>4</th>\n",
       "      <th>5</th>\n",
       "      <th>6</th>\n",
       "    </tr>\n",
       "  </thead>\n",
       "  <tbody>\n",
       "    <tr>\n",
       "      <th>0</th>\n",
       "      <td>9338.504217</td>\n",
       "      <td>8722.556863</td>\n",
       "      <td>8308.701419</td>\n",
       "      <td>9378.021443</td>\n",
       "      <td>9235.271623</td>\n",
       "      <td>9989.506677</td>\n",
       "      <td>10497.548672</td>\n",
       "    </tr>\n",
       "    <tr>\n",
       "      <th>1</th>\n",
       "      <td>8722.556863</td>\n",
       "      <td>8308.701419</td>\n",
       "      <td>9378.021443</td>\n",
       "      <td>9235.271623</td>\n",
       "      <td>9989.506677</td>\n",
       "      <td>10497.548672</td>\n",
       "      <td>9372.873155</td>\n",
       "    </tr>\n",
       "    <tr>\n",
       "      <th>2</th>\n",
       "      <td>8308.701419</td>\n",
       "      <td>9378.021443</td>\n",
       "      <td>9235.271623</td>\n",
       "      <td>9989.506677</td>\n",
       "      <td>10497.548672</td>\n",
       "      <td>9372.873155</td>\n",
       "      <td>9642.006543</td>\n",
       "    </tr>\n",
       "    <tr>\n",
       "      <th>3</th>\n",
       "      <td>9378.021443</td>\n",
       "      <td>9235.271623</td>\n",
       "      <td>9989.506677</td>\n",
       "      <td>10497.548672</td>\n",
       "      <td>9372.873155</td>\n",
       "      <td>9642.006543</td>\n",
       "      <td>10833.626185</td>\n",
       "    </tr>\n",
       "    <tr>\n",
       "      <th>4</th>\n",
       "      <td>9235.271623</td>\n",
       "      <td>9989.506677</td>\n",
       "      <td>10497.548672</td>\n",
       "      <td>9372.873155</td>\n",
       "      <td>9642.006543</td>\n",
       "      <td>10833.626185</td>\n",
       "      <td>9970.866886</td>\n",
       "    </tr>\n",
       "    <tr>\n",
       "      <th>...</th>\n",
       "      <td>...</td>\n",
       "      <td>...</td>\n",
       "      <td>...</td>\n",
       "      <td>...</td>\n",
       "      <td>...</td>\n",
       "      <td>...</td>\n",
       "      <td>...</td>\n",
       "    </tr>\n",
       "    <tr>\n",
       "      <th>2567</th>\n",
       "      <td>10934.820425</td>\n",
       "      <td>13449.983977</td>\n",
       "      <td>11991.819441</td>\n",
       "      <td>10321.633010</td>\n",
       "      <td>12486.377396</td>\n",
       "      <td>11944.807884</td>\n",
       "      <td>11485.200863</td>\n",
       "    </tr>\n",
       "    <tr>\n",
       "      <th>2568</th>\n",
       "      <td>13449.983977</td>\n",
       "      <td>11991.819441</td>\n",
       "      <td>10321.633010</td>\n",
       "      <td>12486.377396</td>\n",
       "      <td>11944.807884</td>\n",
       "      <td>11485.200863</td>\n",
       "      <td>11797.158706</td>\n",
       "    </tr>\n",
       "    <tr>\n",
       "      <th>2569</th>\n",
       "      <td>11991.819441</td>\n",
       "      <td>10321.633010</td>\n",
       "      <td>12486.377396</td>\n",
       "      <td>11944.807884</td>\n",
       "      <td>11485.200863</td>\n",
       "      <td>11797.158706</td>\n",
       "      <td>12768.689584</td>\n",
       "    </tr>\n",
       "    <tr>\n",
       "      <th>2570</th>\n",
       "      <td>10321.633010</td>\n",
       "      <td>12486.377396</td>\n",
       "      <td>11944.807884</td>\n",
       "      <td>11485.200863</td>\n",
       "      <td>11797.158706</td>\n",
       "      <td>12768.689584</td>\n",
       "      <td>11360.327345</td>\n",
       "    </tr>\n",
       "    <tr>\n",
       "      <th>2571</th>\n",
       "      <td>12486.377396</td>\n",
       "      <td>11944.807884</td>\n",
       "      <td>11485.200863</td>\n",
       "      <td>11797.158706</td>\n",
       "      <td>12768.689584</td>\n",
       "      <td>11360.327345</td>\n",
       "      <td>10720.627819</td>\n",
       "    </tr>\n",
       "  </tbody>\n",
       "</table>\n",
       "<p>2572 rows × 7 columns</p>\n",
       "</div>"
      ],
      "text/plain": [
       "                 0             1             2             3             4  \\\n",
       "0      9338.504217   8722.556863   8308.701419   9378.021443   9235.271623   \n",
       "1      8722.556863   8308.701419   9378.021443   9235.271623   9989.506677   \n",
       "2      8308.701419   9378.021443   9235.271623   9989.506677  10497.548672   \n",
       "3      9378.021443   9235.271623   9989.506677  10497.548672   9372.873155   \n",
       "4      9235.271623   9989.506677  10497.548672   9372.873155   9642.006543   \n",
       "...            ...           ...           ...           ...           ...   \n",
       "2567  10934.820425  13449.983977  11991.819441  10321.633010  12486.377396   \n",
       "2568  13449.983977  11991.819441  10321.633010  12486.377396  11944.807884   \n",
       "2569  11991.819441  10321.633010  12486.377396  11944.807884  11485.200863   \n",
       "2570  10321.633010  12486.377396  11944.807884  11485.200863  11797.158706   \n",
       "2571  12486.377396  11944.807884  11485.200863  11797.158706  12768.689584   \n",
       "\n",
       "                 5             6  \n",
       "0      9989.506677  10497.548672  \n",
       "1     10497.548672   9372.873155  \n",
       "2      9372.873155   9642.006543  \n",
       "3      9642.006543  10833.626185  \n",
       "4     10833.626185   9970.866886  \n",
       "...            ...           ...  \n",
       "2567  11944.807884  11485.200863  \n",
       "2568  11485.200863  11797.158706  \n",
       "2569  11797.158706  12768.689584  \n",
       "2570  12768.689584  11360.327345  \n",
       "2571  11360.327345  10720.627819  \n",
       "\n",
       "[2572 rows x 7 columns]"
      ]
     },
     "execution_count": 42,
     "metadata": {},
     "output_type": "execute_result"
    }
   ],
   "source": [
    "pd.DataFrame(y_train)"
   ]
  },
  {
   "cell_type": "code",
   "execution_count": 43,
   "id": "8a5fa0a0",
   "metadata": {},
   "outputs": [],
   "source": [
    "from sklearn.preprocessing import MinMaxScaler"
   ]
  },
  {
   "cell_type": "code",
   "execution_count": 44,
   "id": "bca6d267",
   "metadata": {},
   "outputs": [],
   "source": [
    "x_scaler=MinMaxScaler()\n",
    "\n",
    "x_train=x_scaler.fit_transform(x_train)"
   ]
  },
  {
   "cell_type": "code",
   "execution_count": 45,
   "id": "2935a6af",
   "metadata": {},
   "outputs": [
    {
     "data": {
      "text/html": [
       "<div>\n",
       "<style scoped>\n",
       "    .dataframe tbody tr th:only-of-type {\n",
       "        vertical-align: middle;\n",
       "    }\n",
       "\n",
       "    .dataframe tbody tr th {\n",
       "        vertical-align: top;\n",
       "    }\n",
       "\n",
       "    .dataframe thead th {\n",
       "        text-align: right;\n",
       "    }\n",
       "</style>\n",
       "<table border=\"1\" class=\"dataframe\">\n",
       "  <thead>\n",
       "    <tr style=\"text-align: right;\">\n",
       "      <th></th>\n",
       "      <th>0</th>\n",
       "      <th>1</th>\n",
       "      <th>2</th>\n",
       "      <th>3</th>\n",
       "      <th>4</th>\n",
       "      <th>5</th>\n",
       "      <th>6</th>\n",
       "    </tr>\n",
       "  </thead>\n",
       "  <tbody>\n",
       "    <tr>\n",
       "      <th>0</th>\n",
       "      <td>0.170407</td>\n",
       "      <td>0.138789</td>\n",
       "      <td>0.180751</td>\n",
       "      <td>0.242810</td>\n",
       "      <td>0.276518</td>\n",
       "      <td>0.205542</td>\n",
       "      <td>0.231825</td>\n",
       "    </tr>\n",
       "    <tr>\n",
       "      <th>1</th>\n",
       "      <td>0.138789</td>\n",
       "      <td>0.180751</td>\n",
       "      <td>0.242810</td>\n",
       "      <td>0.276518</td>\n",
       "      <td>0.205542</td>\n",
       "      <td>0.231825</td>\n",
       "      <td>0.209431</td>\n",
       "    </tr>\n",
       "    <tr>\n",
       "      <th>2</th>\n",
       "      <td>0.180751</td>\n",
       "      <td>0.242810</td>\n",
       "      <td>0.276518</td>\n",
       "      <td>0.205542</td>\n",
       "      <td>0.231825</td>\n",
       "      <td>0.209431</td>\n",
       "      <td>0.178953</td>\n",
       "    </tr>\n",
       "    <tr>\n",
       "      <th>3</th>\n",
       "      <td>0.242810</td>\n",
       "      <td>0.276518</td>\n",
       "      <td>0.205542</td>\n",
       "      <td>0.231825</td>\n",
       "      <td>0.209431</td>\n",
       "      <td>0.178953</td>\n",
       "      <td>0.158475</td>\n",
       "    </tr>\n",
       "    <tr>\n",
       "      <th>4</th>\n",
       "      <td>0.276518</td>\n",
       "      <td>0.205542</td>\n",
       "      <td>0.231825</td>\n",
       "      <td>0.209431</td>\n",
       "      <td>0.178953</td>\n",
       "      <td>0.158475</td>\n",
       "      <td>0.211387</td>\n",
       "    </tr>\n",
       "    <tr>\n",
       "      <th>...</th>\n",
       "      <td>...</td>\n",
       "      <td>...</td>\n",
       "      <td>...</td>\n",
       "      <td>...</td>\n",
       "      <td>...</td>\n",
       "      <td>...</td>\n",
       "      <td>...</td>\n",
       "    </tr>\n",
       "    <tr>\n",
       "      <th>2567</th>\n",
       "      <td>0.218771</td>\n",
       "      <td>0.273350</td>\n",
       "      <td>0.229027</td>\n",
       "      <td>0.201689</td>\n",
       "      <td>0.278357</td>\n",
       "      <td>0.251227</td>\n",
       "      <td>0.252560</td>\n",
       "    </tr>\n",
       "    <tr>\n",
       "      <th>2568</th>\n",
       "      <td>0.273350</td>\n",
       "      <td>0.229027</td>\n",
       "      <td>0.201689</td>\n",
       "      <td>0.278357</td>\n",
       "      <td>0.251227</td>\n",
       "      <td>0.252560</td>\n",
       "      <td>0.288420</td>\n",
       "    </tr>\n",
       "    <tr>\n",
       "      <th>2569</th>\n",
       "      <td>0.229027</td>\n",
       "      <td>0.201689</td>\n",
       "      <td>0.278357</td>\n",
       "      <td>0.251227</td>\n",
       "      <td>0.252560</td>\n",
       "      <td>0.288420</td>\n",
       "      <td>0.412875</td>\n",
       "    </tr>\n",
       "    <tr>\n",
       "      <th>2570</th>\n",
       "      <td>0.201689</td>\n",
       "      <td>0.278357</td>\n",
       "      <td>0.251227</td>\n",
       "      <td>0.252560</td>\n",
       "      <td>0.288420</td>\n",
       "      <td>0.412875</td>\n",
       "      <td>0.340722</td>\n",
       "    </tr>\n",
       "    <tr>\n",
       "      <th>2571</th>\n",
       "      <td>0.278357</td>\n",
       "      <td>0.251227</td>\n",
       "      <td>0.252560</td>\n",
       "      <td>0.288420</td>\n",
       "      <td>0.412875</td>\n",
       "      <td>0.340722</td>\n",
       "      <td>0.258078</td>\n",
       "    </tr>\n",
       "  </tbody>\n",
       "</table>\n",
       "<p>2572 rows × 7 columns</p>\n",
       "</div>"
      ],
      "text/plain": [
       "             0         1         2         3         4         5         6\n",
       "0     0.170407  0.138789  0.180751  0.242810  0.276518  0.205542  0.231825\n",
       "1     0.138789  0.180751  0.242810  0.276518  0.205542  0.231825  0.209431\n",
       "2     0.180751  0.242810  0.276518  0.205542  0.231825  0.209431  0.178953\n",
       "3     0.242810  0.276518  0.205542  0.231825  0.209431  0.178953  0.158475\n",
       "4     0.276518  0.205542  0.231825  0.209431  0.178953  0.158475  0.211387\n",
       "...        ...       ...       ...       ...       ...       ...       ...\n",
       "2567  0.218771  0.273350  0.229027  0.201689  0.278357  0.251227  0.252560\n",
       "2568  0.273350  0.229027  0.201689  0.278357  0.251227  0.252560  0.288420\n",
       "2569  0.229027  0.201689  0.278357  0.251227  0.252560  0.288420  0.412875\n",
       "2570  0.201689  0.278357  0.251227  0.252560  0.288420  0.412875  0.340722\n",
       "2571  0.278357  0.251227  0.252560  0.288420  0.412875  0.340722  0.258078\n",
       "\n",
       "[2572 rows x 7 columns]"
      ]
     },
     "execution_count": 45,
     "metadata": {},
     "output_type": "execute_result"
    }
   ],
   "source": [
    "pd.DataFrame(x_train)"
   ]
  },
  {
   "cell_type": "code",
   "execution_count": 46,
   "id": "c2fc0f8e",
   "metadata": {},
   "outputs": [],
   "source": [
    "y_scaler=MinMaxScaler()\n",
    "\n",
    "y_train=y_scaler.fit_transform(y_train)"
   ]
  },
  {
   "cell_type": "code",
   "execution_count": 47,
   "id": "1411d011",
   "metadata": {
    "scrolled": true
   },
   "outputs": [
    {
     "data": {
      "text/plain": [
       "array([[0.20943137, 0.17895315, 0.15847482, ..., 0.20432323, 0.24164418,\n",
       "        0.26678304],\n",
       "       [0.17895315, 0.15847482, 0.21138676, ..., 0.24164418, 0.26678304,\n",
       "        0.21113201],\n",
       "       [0.15847482, 0.21138676, 0.20432323, ..., 0.26678304, 0.21113201,\n",
       "        0.22444923],\n",
       "       ...,\n",
       "       [0.34072233, 0.25807841, 0.36519397, ..., 0.3156539 , 0.33109015,\n",
       "        0.37916331],\n",
       "       [0.25807841, 0.36519397, 0.33839611, ..., 0.33109015, 0.37916331,\n",
       "        0.30947493],\n",
       "       [0.36519397, 0.33839611, 0.3156539 , ..., 0.37916331, 0.30947493,\n",
       "        0.27782141]])"
      ]
     },
     "execution_count": 47,
     "metadata": {},
     "output_type": "execute_result"
    }
   ],
   "source": [
    "y_train"
   ]
  },
  {
   "cell_type": "code",
   "execution_count": 48,
   "id": "3852800b",
   "metadata": {},
   "outputs": [],
   "source": [
    "x_train=x_train.reshape(2572,7,1)"
   ]
  },
  {
   "cell_type": "code",
   "execution_count": 49,
   "id": "1d8292b2",
   "metadata": {},
   "outputs": [
    {
     "data": {
      "text/plain": [
       "(2572, 7, 1)"
      ]
     },
     "execution_count": 49,
     "metadata": {},
     "output_type": "execute_result"
    }
   ],
   "source": [
    "x_train.shape"
   ]
  },
  {
   "cell_type": "markdown",
   "id": "c270a559",
   "metadata": {},
   "source": [
    "# Build LSTM MODEL"
   ]
  },
  {
   "cell_type": "code",
   "execution_count": 50,
   "id": "a18cdb79",
   "metadata": {},
   "outputs": [],
   "source": [
    "from tensorflow.keras import Sequential\n",
    "from tensorflow.keras.layers import LSTM,Dense"
   ]
  },
  {
   "cell_type": "code",
   "execution_count": 51,
   "id": "b8d3c405",
   "metadata": {},
   "outputs": [],
   "source": [
    "reg=Sequential()\n",
    "\n",
    "\n",
    "reg.add(LSTM(units=200,activation='relu',input_shape=(7,1)))\n",
    "reg.add(Dense(7))"
   ]
  },
  {
   "cell_type": "code",
   "execution_count": 52,
   "id": "397a1314",
   "metadata": {},
   "outputs": [],
   "source": [
    "reg.compile(loss='mse',optimizer='adam')"
   ]
  },
  {
   "cell_type": "code",
   "execution_count": 53,
   "id": "74b2849b",
   "metadata": {
    "scrolled": false
   },
   "outputs": [
    {
     "name": "stdout",
     "output_type": "stream",
     "text": [
      "Epoch 1/100\n",
      "81/81 [==============================] - 1s 3ms/step - loss: 0.0230\n",
      "Epoch 2/100\n",
      "81/81 [==============================] - 0s 3ms/step - loss: 0.0138\n",
      "Epoch 3/100\n",
      "81/81 [==============================] - 0s 3ms/step - loss: 0.0132\n",
      "Epoch 4/100\n",
      "81/81 [==============================] - 0s 3ms/step - loss: 0.0132\n",
      "Epoch 5/100\n",
      "81/81 [==============================] - 0s 3ms/step - loss: 0.0128\n",
      "Epoch 6/100\n",
      "81/81 [==============================] - 0s 3ms/step - loss: 0.0128\n",
      "Epoch 7/100\n",
      "81/81 [==============================] - 0s 3ms/step - loss: 0.0125\n",
      "Epoch 8/100\n",
      "81/81 [==============================] - 0s 3ms/step - loss: 0.0124\n",
      "Epoch 9/100\n",
      "81/81 [==============================] - 0s 3ms/step - loss: 0.0123\n",
      "Epoch 10/100\n",
      "81/81 [==============================] - 0s 3ms/step - loss: 0.0121\n",
      "Epoch 11/100\n",
      "81/81 [==============================] - 0s 3ms/step - loss: 0.0119\n",
      "Epoch 12/100\n",
      "81/81 [==============================] - 0s 3ms/step - loss: 0.0116\n",
      "Epoch 13/100\n",
      "81/81 [==============================] - 0s 3ms/step - loss: 0.0116\n",
      "Epoch 14/100\n",
      "81/81 [==============================] - 0s 3ms/step - loss: 0.0114\n",
      "Epoch 15/100\n",
      "81/81 [==============================] - 0s 3ms/step - loss: 0.0111\n",
      "Epoch 16/100\n",
      "81/81 [==============================] - 0s 3ms/step - loss: 0.0111\n",
      "Epoch 17/100\n",
      "81/81 [==============================] - 0s 3ms/step - loss: 0.0109\n",
      "Epoch 18/100\n",
      "81/81 [==============================] - 0s 3ms/step - loss: 0.0105\n",
      "Epoch 19/100\n",
      "81/81 [==============================] - 0s 4ms/step - loss: 0.0102\n",
      "Epoch 20/100\n",
      "81/81 [==============================] - 0s 3ms/step - loss: 0.0099\n",
      "Epoch 21/100\n",
      "81/81 [==============================] - 0s 4ms/step - loss: 0.0098\n",
      "Epoch 22/100\n",
      "81/81 [==============================] - 0s 3ms/step - loss: 0.0096\n",
      "Epoch 23/100\n",
      "81/81 [==============================] - 0s 3ms/step - loss: 0.0093\n",
      "Epoch 24/100\n",
      "81/81 [==============================] - 0s 3ms/step - loss: 0.0093\n",
      "Epoch 25/100\n",
      "81/81 [==============================] - 0s 3ms/step - loss: 0.0093\n",
      "Epoch 26/100\n",
      "81/81 [==============================] - 0s 3ms/step - loss: 0.0091\n",
      "Epoch 27/100\n",
      "81/81 [==============================] - 0s 3ms/step - loss: 0.0090\n",
      "Epoch 28/100\n",
      "81/81 [==============================] - 0s 3ms/step - loss: 0.0089\n",
      "Epoch 29/100\n",
      "81/81 [==============================] - 0s 3ms/step - loss: 0.0087\n",
      "Epoch 30/100\n",
      "81/81 [==============================] - 0s 3ms/step - loss: 0.0087\n",
      "Epoch 31/100\n",
      "81/81 [==============================] - 0s 3ms/step - loss: 0.0086\n",
      "Epoch 32/100\n",
      "81/81 [==============================] - 0s 4ms/step - loss: 0.0085\n",
      "Epoch 33/100\n",
      "81/81 [==============================] - 0s 3ms/step - loss: 0.0083\n",
      "Epoch 34/100\n",
      "81/81 [==============================] - 0s 4ms/step - loss: 0.0083\n",
      "Epoch 35/100\n",
      "81/81 [==============================] - 0s 3ms/step - loss: 0.0082\n",
      "Epoch 36/100\n",
      "81/81 [==============================] - 0s 3ms/step - loss: 0.0082\n",
      "Epoch 37/100\n",
      "81/81 [==============================] - 0s 3ms/step - loss: 0.0081\n",
      "Epoch 38/100\n",
      "81/81 [==============================] - 0s 3ms/step - loss: 0.0080\n",
      "Epoch 39/100\n",
      "81/81 [==============================] - 0s 3ms/step - loss: 0.0079\n",
      "Epoch 40/100\n",
      "81/81 [==============================] - 0s 3ms/step - loss: 0.0078\n",
      "Epoch 41/100\n",
      "81/81 [==============================] - 0s 3ms/step - loss: 0.0078\n",
      "Epoch 42/100\n",
      "81/81 [==============================] - 0s 3ms/step - loss: 0.0076\n",
      "Epoch 43/100\n",
      "81/81 [==============================] - 0s 3ms/step - loss: 0.0076\n",
      "Epoch 44/100\n",
      "81/81 [==============================] - 0s 3ms/step - loss: 0.0076\n",
      "Epoch 45/100\n",
      "81/81 [==============================] - 0s 3ms/step - loss: 0.0075\n",
      "Epoch 46/100\n",
      "81/81 [==============================] - 0s 4ms/step - loss: 0.0074\n",
      "Epoch 47/100\n",
      "81/81 [==============================] - 0s 4ms/step - loss: 0.0075\n",
      "Epoch 48/100\n",
      "81/81 [==============================] - 0s 3ms/step - loss: 0.0074\n",
      "Epoch 49/100\n",
      "81/81 [==============================] - 0s 3ms/step - loss: 0.0072\n",
      "Epoch 50/100\n",
      "81/81 [==============================] - 0s 3ms/step - loss: 0.0071\n",
      "Epoch 51/100\n",
      "81/81 [==============================] - 0s 4ms/step - loss: 0.0070\n",
      "Epoch 52/100\n",
      "81/81 [==============================] - 0s 3ms/step - loss: 0.0069\n",
      "Epoch 53/100\n",
      "81/81 [==============================] - 0s 3ms/step - loss: 0.0070\n",
      "Epoch 54/100\n",
      "81/81 [==============================] - 0s 3ms/step - loss: 0.0068\n",
      "Epoch 55/100\n",
      "81/81 [==============================] - 0s 3ms/step - loss: 0.0068\n",
      "Epoch 56/100\n",
      "81/81 [==============================] - 0s 3ms/step - loss: 0.0067\n",
      "Epoch 57/100\n",
      "81/81 [==============================] - 0s 3ms/step - loss: 0.0066\n",
      "Epoch 58/100\n",
      "81/81 [==============================] - 0s 3ms/step - loss: 0.0065\n",
      "Epoch 59/100\n",
      "81/81 [==============================] - 0s 3ms/step - loss: 0.0066\n",
      "Epoch 60/100\n",
      "81/81 [==============================] - 0s 4ms/step - loss: 0.0064\n",
      "Epoch 61/100\n",
      "81/81 [==============================] - 0s 3ms/step - loss: 0.0063\n",
      "Epoch 62/100\n",
      "81/81 [==============================] - 0s 3ms/step - loss: 0.0062\n",
      "Epoch 63/100\n",
      "81/81 [==============================] - 0s 3ms/step - loss: 0.0062\n",
      "Epoch 64/100\n",
      "81/81 [==============================] - 0s 3ms/step - loss: 0.0062\n",
      "Epoch 65/100\n",
      "81/81 [==============================] - 0s 3ms/step - loss: 0.0062\n",
      "Epoch 66/100\n",
      "81/81 [==============================] - 0s 3ms/step - loss: 0.0059\n",
      "Epoch 67/100\n",
      "81/81 [==============================] - 0s 3ms/step - loss: 0.0061\n",
      "Epoch 68/100\n",
      "81/81 [==============================] - 0s 3ms/step - loss: 0.0059\n",
      "Epoch 69/100\n",
      "81/81 [==============================] - 0s 3ms/step - loss: 0.0058\n",
      "Epoch 70/100\n",
      "81/81 [==============================] - 0s 3ms/step - loss: 0.0057\n",
      "Epoch 71/100\n",
      "81/81 [==============================] - 0s 3ms/step - loss: 0.0058\n",
      "Epoch 72/100\n",
      "81/81 [==============================] - 0s 3ms/step - loss: 0.0057\n",
      "Epoch 73/100\n",
      "81/81 [==============================] - 0s 3ms/step - loss: 0.0055\n",
      "Epoch 74/100\n",
      "81/81 [==============================] - 0s 3ms/step - loss: 0.0053\n",
      "Epoch 75/100\n",
      "81/81 [==============================] - 0s 3ms/step - loss: 0.0056\n",
      "Epoch 76/100\n",
      "81/81 [==============================] - 0s 3ms/step - loss: 0.0054\n",
      "Epoch 77/100\n",
      "81/81 [==============================] - 0s 3ms/step - loss: 0.0054\n",
      "Epoch 78/100\n",
      "81/81 [==============================] - 0s 3ms/step - loss: 0.0052\n",
      "Epoch 79/100\n",
      "81/81 [==============================] - 0s 3ms/step - loss: 0.0052\n",
      "Epoch 80/100\n",
      "81/81 [==============================] - 0s 3ms/step - loss: 0.0050\n",
      "Epoch 81/100\n",
      "81/81 [==============================] - 0s 3ms/step - loss: 0.0049\n",
      "Epoch 82/100\n",
      "81/81 [==============================] - 0s 3ms/step - loss: 0.0050\n",
      "Epoch 83/100\n",
      "81/81 [==============================] - 0s 3ms/step - loss: 0.0050\n",
      "Epoch 84/100\n",
      "81/81 [==============================] - 0s 3ms/step - loss: 0.0049\n",
      "Epoch 85/100\n",
      "81/81 [==============================] - 0s 3ms/step - loss: 0.0048\n",
      "Epoch 86/100\n",
      "81/81 [==============================] - 0s 3ms/step - loss: 0.0048\n",
      "Epoch 87/100\n",
      "81/81 [==============================] - 0s 3ms/step - loss: 0.0048\n",
      "Epoch 88/100\n",
      "81/81 [==============================] - 0s 3ms/step - loss: 0.0046\n",
      "Epoch 89/100\n",
      "81/81 [==============================] - 0s 3ms/step - loss: 0.0045\n",
      "Epoch 90/100\n",
      "81/81 [==============================] - 0s 3ms/step - loss: 0.0045\n",
      "Epoch 91/100\n",
      "81/81 [==============================] - 0s 3ms/step - loss: 0.0047\n",
      "Epoch 92/100\n",
      "81/81 [==============================] - 0s 3ms/step - loss: 0.0044\n",
      "Epoch 93/100\n",
      "81/81 [==============================] - 0s 3ms/step - loss: 0.0044\n",
      "Epoch 94/100\n",
      "81/81 [==============================] - 0s 3ms/step - loss: 0.0044\n",
      "Epoch 95/100\n",
      "81/81 [==============================] - 0s 3ms/step - loss: 0.0042\n",
      "Epoch 96/100\n",
      "81/81 [==============================] - 0s 4ms/step - loss: 0.0043\n",
      "Epoch 97/100\n",
      "81/81 [==============================] - 0s 4ms/step - loss: 0.0043\n",
      "Epoch 98/100\n",
      "81/81 [==============================] - 0s 4ms/step - loss: 0.0042\n",
      "Epoch 99/100\n",
      "81/81 [==============================] - 0s 3ms/step - loss: 0.0041\n",
      "Epoch 100/100\n",
      "81/81 [==============================] - 0s 3ms/step - loss: 0.0041\n"
     ]
    },
    {
     "data": {
      "text/plain": [
       "<keras.callbacks.History at 0x281d6e85c10>"
      ]
     },
     "execution_count": 53,
     "metadata": {},
     "output_type": "execute_result"
    }
   ],
   "source": [
    "reg.fit(x_train,y_train,epochs=100 )"
   ]
  },
  {
   "cell_type": "code",
   "execution_count": null,
   "id": "233895ac",
   "metadata": {},
   "outputs": [],
   "source": []
  },
  {
   "cell_type": "markdown",
   "id": "f4a37f8c",
   "metadata": {},
   "source": [
    "# Prepare Testing Data"
   ]
  },
  {
   "cell_type": "code",
   "execution_count": 54,
   "id": "e47d209b",
   "metadata": {},
   "outputs": [],
   "source": [
    "data_test=np.array(data_test)"
   ]
  },
  {
   "cell_type": "code",
   "execution_count": 55,
   "id": "546028c7",
   "metadata": {},
   "outputs": [],
   "source": [
    "x_test,y_test=[],[]\n",
    "\n",
    "for i in range(7,len(data_test)-7):\n",
    "    \n",
    "    x_test.append(data_test[i-7:i])\n",
    "    y_test.append(data_test[i:i+7])"
   ]
  },
  {
   "cell_type": "code",
   "execution_count": 56,
   "id": "396bf2f6",
   "metadata": {},
   "outputs": [],
   "source": [
    "x_test,y_test=np.array(x_test),np.array(y_test)"
   ]
  },
  {
   "cell_type": "code",
   "execution_count": 57,
   "id": "0bebe481",
   "metadata": {},
   "outputs": [],
   "source": [
    "x_test=x_scaler.transform(x_test)\n",
    "y_test=y_scaler.transform(y_test)"
   ]
  },
  {
   "cell_type": "code",
   "execution_count": 58,
   "id": "7d6c7f82",
   "metadata": {},
   "outputs": [
    {
     "data": {
      "text/plain": [
       "(318, 7)"
      ]
     },
     "execution_count": 58,
     "metadata": {},
     "output_type": "execute_result"
    }
   ],
   "source": [
    "x_test.shape"
   ]
  },
  {
   "cell_type": "code",
   "execution_count": 59,
   "id": "16be5f36",
   "metadata": {},
   "outputs": [],
   "source": [
    "x_test=x_test.reshape(318,7,1)"
   ]
  },
  {
   "cell_type": "markdown",
   "id": "4175ee86",
   "metadata": {},
   "source": [
    "# Predictions"
   ]
  },
  {
   "cell_type": "code",
   "execution_count": 60,
   "id": "a94b7a3a",
   "metadata": {},
   "outputs": [
    {
     "data": {
      "text/plain": [
       "array([[0.29276013, 0.2848162 , 0.30628395, ..., 0.31628767, 0.30158556,\n",
       "        0.31316462],\n",
       "       [0.28731564, 0.28674322, 0.30658275, ..., 0.31386393, 0.30230328,\n",
       "        0.2922755 ],\n",
       "       [0.27252188, 0.28721404, 0.30091542, ..., 0.29113093, 0.27496353,\n",
       "        0.27769905],\n",
       "       ...,\n",
       "       [0.29009125, 0.28461292, 0.3095373 , ..., 0.34558678, 0.34075385,\n",
       "        0.3151561 ],\n",
       "       [0.32661787, 0.30850536, 0.2896637 , ..., 0.34611836, 0.35592693,\n",
       "        0.32748786],\n",
       "       [0.30459693, 0.28090346, 0.30052012, ..., 0.29838917, 0.29620412,\n",
       "        0.29121128]], dtype=float32)"
      ]
     },
     "execution_count": 60,
     "metadata": {},
     "output_type": "execute_result"
    }
   ],
   "source": [
    "y_pred=reg.predict(x_test)\n",
    "y_pred"
   ]
  },
  {
   "cell_type": "code",
   "execution_count": 61,
   "id": "01b5a171",
   "metadata": {},
   "outputs": [
    {
     "data": {
      "text/plain": [
       "array([[11022.531, 10861.988, 11295.84 , ..., 11498.009, 11200.888,\n",
       "        11434.894],\n",
       "       [10912.5  , 10900.933, 11301.878, ..., 11449.026, 11215.392,\n",
       "        11012.736],\n",
       "       [10613.527, 10910.447, 11187.345, ..., 10989.605, 10662.871,\n",
       "        10718.155],\n",
       "       ...,\n",
       "       [10968.594, 10857.88 , 11361.588, ..., 12090.127, 11992.457,\n",
       "        11475.141],\n",
       "       [11706.775, 11340.733, 10959.953, ..., 12100.87 , 12299.096,\n",
       "        11724.357],\n",
       "       [11261.745, 10782.914, 11179.355, ..., 11136.29 , 11092.132,\n",
       "        10991.229]], dtype=float32)"
      ]
     },
     "execution_count": 61,
     "metadata": {},
     "output_type": "execute_result"
    }
   ],
   "source": [
    "y_predi=y_scaler.inverse_transform(y_pred)\n",
    "y_predi"
   ]
  },
  {
   "cell_type": "code",
   "execution_count": 62,
   "id": "e5727183",
   "metadata": {},
   "outputs": [
    {
     "data": {
      "text/plain": [
       "array([[11604.7319353, 10897.4426132, 10485.3376093, ...,  9320.7177143,\n",
       "         8511.7735818,  9276.0584906],\n",
       "       [10897.4426132, 10485.3376093, 10127.3656134, ...,  8511.7735818,\n",
       "         9276.0584906,  8464.4150034],\n",
       "       [10485.3376093, 10127.3656134,  9320.7177143, ...,  9276.0584906,\n",
       "         8464.4150034,  8111.222387 ],\n",
       "       ...,\n",
       "       [12745.7779787, 11986.1682362, 11430.4438648, ..., 12212.4135805,\n",
       "        11178.2461905, 12096.5781945],\n",
       "       [11986.1682362, 11430.4438648, 12834.0966237, ..., 11178.2461905,\n",
       "        12096.5781945, 11658.1785831],\n",
       "       [11430.4438648, 12834.0966237, 12212.4135805, ..., 12096.5781945,\n",
       "        11658.1785831, 11545.0412367]])"
      ]
     },
     "execution_count": 62,
     "metadata": {},
     "output_type": "execute_result"
    }
   ],
   "source": [
    "y_true=y_scaler.inverse_transform(y_test)\n",
    "y_true"
   ]
  },
  {
   "cell_type": "markdown",
   "id": "26acacdb",
   "metadata": {},
   "source": [
    "# Evaluating MODEL"
   ]
  },
  {
   "cell_type": "code",
   "execution_count": 63,
   "id": "77f0ba68",
   "metadata": {},
   "outputs": [],
   "source": [
    "from sklearn.metrics import mean_squared_error"
   ]
  },
  {
   "cell_type": "code",
   "execution_count": 64,
   "id": "134dbdbe",
   "metadata": {},
   "outputs": [],
   "source": [
    "def evaluate(y_true,y_pred):\n",
    "    \n",
    "    scores=[]\n",
    "    \n",
    "    for i in range(y_true.shape[1]):\n",
    "        mse=mean_squared_error(y_true[:, i], y_pred[:, i])\n",
    "        rmse=np.sqrt(mse)\n",
    "        \n",
    "        scores.append(rmse)\n",
    "    total_score=[]    \n",
    "    for row in range(y_true.shape[0]):\n",
    "        for col in range(y_pred.shape[1]):\n",
    "            total_score=total_score + (y_true[row, col]- y_pred[row,col])**2\n",
    "    total_score=np.sqrt(total_score/(y_true.shape[0]*y_pred.shape[1]))\n",
    "    \n",
    "    return total_score,scores"
   ]
  },
  {
   "cell_type": "code",
   "execution_count": 65,
   "id": "32e91ae9",
   "metadata": {},
   "outputs": [
    {
     "data": {
      "text/plain": [
       "(array([], dtype=float64),\n",
       " [9874.069095379797,\n",
       "  9878.844451242758,\n",
       "  9883.668479317581,\n",
       "  9886.049003508211,\n",
       "  9893.014659753348,\n",
       "  9900.810097634532,\n",
       "  9910.473347925981])"
      ]
     },
     "execution_count": 65,
     "metadata": {},
     "output_type": "execute_result"
    }
   ],
   "source": [
    "evaluate(y_true,y_pred)"
   ]
  },
  {
   "cell_type": "code",
   "execution_count": null,
   "id": "1868b5a9",
   "metadata": {},
   "outputs": [],
   "source": []
  },
  {
   "cell_type": "code",
   "execution_count": null,
   "id": "ed742c8b",
   "metadata": {},
   "outputs": [],
   "source": []
  }
 ],
 "metadata": {
  "kernelspec": {
   "display_name": "Python 3",
   "language": "python",
   "name": "python3"
  },
  "language_info": {
   "codemirror_mode": {
    "name": "ipython",
    "version": 3
   },
   "file_extension": ".py",
   "mimetype": "text/x-python",
   "name": "python",
   "nbconvert_exporter": "python",
   "pygments_lexer": "ipython3",
   "version": "3.8.8"
  }
 },
 "nbformat": 4,
 "nbformat_minor": 5
}
